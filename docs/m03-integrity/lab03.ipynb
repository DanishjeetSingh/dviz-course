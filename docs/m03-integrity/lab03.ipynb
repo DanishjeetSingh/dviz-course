{
 "cells": [
  {
   "cell_type": "markdown",
   "metadata": {},
   "source": [
    "# Module 3: Fix it or break it!\n",
    "\n",
    "In this assignment, you choose to be either a good 😇 or a bad 😈 person. Follow the instruction below and submit your paper to Canvas.  \n",
    "\n",
    "## 😇\n",
    "\n",
    "Find a highly misleading visualization (you can have more than one!). Write a short paper (also feel free to publish in your blog or something) that \n",
    "\n",
    "- dissects and explains why the visualizations are misleading. \n",
    "- explains how the visualization can be fixed. \n",
    "- provides a fixed visualization (either hand-drawn or plotted with any tool)\n",
    "\n",
    "## 😈 \n",
    "\n",
    "Find a perfectly fine visualization (you can have more than one!). Write a short paper that \n",
    "\n",
    "- how can those visualization can be manipulated to mislead one way or the other\n",
    "- provides a manipulated version of the visualization (either hand-drawn or plotted with any tool) - the more malicious and subtle it is, the better!\n",
    "\n",
    "**NOTE:** For assignment, You are required to write a paper on one of the above two (good or bad) and not both but if you are interested, you can write for both.\n"
   ]
  },
  {
   "cell_type": "markdown",
   "metadata": {},
   "source": [
    "## Answer 😇"
   ]
  },
  {
   "cell_type": "markdown",
   "metadata": {},
   "source": [
    "For this assignment, I'll write about a highly misleading vizualization, and will present a quick fix to it"
   ]
  },
  {
   "cell_type": "markdown",
   "metadata": {},
   "source": [
    "The graph is for the gun deaths in the state of Florida"
   ]
  },
  {
   "cell_type": "markdown",
   "metadata": {},
   "source": [
    "![](https://cdn.mos.cms.futurecdn.net/h5MSdPM97fm55kTk4kk4P7-1200-80.jpg)"
   ]
  },
  {
   "cell_type": "markdown",
   "metadata": {},
   "source": [
    "- The state of Florida presented this graph to the public, conveying the message that the gun deaths reduced when they passed the \"Stand your Ground\" law, infact what happened was quite the oppposite.\n",
    "- Upon close examination we find that the y-axis is casually inverted, which shows the trend as opposite than what it actually is.\n",
    "- A simple fix for the vizualization would be to simply start the y-axis from the bottom left of the graph"
   ]
  },
  {
   "cell_type": "markdown",
   "metadata": {},
   "source": [
    "![](florida_gun_deaths_fixed.jpeg)"
   ]
  },
  {
   "cell_type": "markdown",
   "metadata": {},
   "source": [
    "- the graph above is not the best attempt at it, but "
   ]
  }
 ],
 "metadata": {
  "kernelspec": {
   "display_name": "Python 3 (ipykernel)",
   "language": "python",
   "name": "python3"
  },
  "language_info": {
   "codemirror_mode": {
    "name": "ipython",
    "version": 3
   },
   "file_extension": ".py",
   "mimetype": "text/x-python",
   "name": "python",
   "nbconvert_exporter": "python",
   "pygments_lexer": "ipython3",
   "version": "3.9.7"
  }
 },
 "nbformat": 4,
 "nbformat_minor": 2
}
