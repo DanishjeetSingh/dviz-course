{
 "cells": [
  {
   "cell_type": "markdown",
   "metadata": {},
   "source": [
    "# Module 3: Fix it or break it!\n",
    "\n",
    "In this assignment, you choose to be either a good 😇 or a bad 😈 person. Follow the instruction below and submit your paper to Canvas.  \n",
    "\n",
    "## 😇\n",
    "\n",
    "Find a highly misleading visualization (you can have more than one!). Write a short paper (also feel free to publish in your blog or something) that \n",
    "\n",
    "- dissects and explains why the visualizations are misleading. \n",
    "- explains how can the visualization be fixed. \n",
    "- provides a fixed visualization (either hand-drawn or plotted with any tool)\n",
    "\n",
    "## 😈 \n",
    "\n",
    "Find a perfectly fine visualization (you can have more than one!). Write a short paper that \n",
    "\n",
    "- how can those visualization can be manipulated to mislead one way or the other\n",
    "- provides a manipulated version of the visualization (either hand-drawn or plotted with any tool) - the more malicious and subtle it is, the better!\n",
    "\n",
    "**NOTE:** For assignment, You are required to write a paper on one of the above two (good or bad) and not both but if you are interested, you can write for both.\n"
   ]
  }
 ],
 "metadata": {
  "language_info": {
   "name": "python"
  }
 },
 "nbformat": 4,
 "nbformat_minor": 2
}
