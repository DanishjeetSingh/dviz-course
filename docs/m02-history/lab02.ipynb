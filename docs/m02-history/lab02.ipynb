{
 "cells": [
  {
   "cell_type": "markdown",
   "metadata": {},
   "source": [
    "<table class=\"m01-notebook-buttons\" align=\"left\">\n",
    "  <td>\n",
    "    <a target=\"_blank\" href=\"https://colab.research.google.com/github/yy/dviz-course/blob/master/docs/m02-history/lab02.ipynb\"><img src=\"https://www.tensorflow.org/images/colab_logo_32px.png\" />Run in Google Colab</a>\n",
    "  </td>\n",
    "  <td>\n",
    "    <a href=\"https://yyahn.com/dviz-course/m02-history/lab02/\"><img src=\"https://www.tensorflow.org/images/GitHub-Mark-32px.png\" />View on Github</a>\n",
    "  </td>\n",
    "   <td>\n",
    "    <a href=\"https://raw.githubusercontent.com/yy/dviz-course/master/docs/m02-history/lab02.ipynb\"><img src=\"https://www.tensorflow.org/images/GitHub-Mark-32px.png\" />View raw on Github</a>\n",
    "  </td>\n",
    "</table>"
   ]
  },
  {
   "cell_type": "markdown",
   "metadata": {
    "id": "ox6BA2ofV_3p"
   },
   "source": [
    "# Module 2: John Snow's map\n",
    "\n",
    "Follow the contents of this notebook and answer all questions (e.g. **Q1: ...**)"
   ]
  },
  {
   "cell_type": "markdown",
   "metadata": {
    "id": "msQ8IFvWV_3x"
   },
   "source": [
    "## Jupyter + Pandas = Awesomeness"
   ]
  },
  {
   "cell_type": "markdown",
   "metadata": {
    "id": "-hLwyxsUV_3x"
   },
   "source": [
    "[Jupyter notebook (lab)](http://jupyter.org) and [Pandas](http://pandas.pydata.org) may be the two most important libraries responsible for the `Python`'s rise in data science. `Jupyter` lets you interactively explore datasets and code; `Pandas` lets you handle tabular datasets with superb speed and convenience. And they work so well together! In many cases, `Jupyter` and `Pandas` are all you need to load, clean, transform, visualize, and understand a dataset.\n",
    "\n",
    "If you are not familiar with `Pandas`, you may want to follow their official tutorial called [10 Minutes to pandas](https://pandas.pydata.org/pandas-docs/stable/user_guide/10min.html) now or in the near future. "
   ]
  },
  {
   "cell_type": "markdown",
   "metadata": {
    "id": "nTR20eiSV_3y"
   },
   "source": [
    "## Importing pandas\n",
    "\n",
    "The convention for importing `pandas` is the following"
   ]
  },
  {
   "cell_type": "code",
   "execution_count": 1,
   "metadata": {
    "execution": {
     "iopub.execute_input": "2020-05-17T21:06:39.071Z",
     "iopub.status.busy": "2020-05-17T21:06:39.054Z",
     "iopub.status.idle": "2020-05-17T21:06:39.826Z",
     "shell.execute_reply": "2020-05-17T21:06:39.848Z"
    },
    "executionInfo": {
     "elapsed": 356,
     "status": "ok",
     "timestamp": 1684852724501,
     "user": {
      "displayName": "Vincent Wong",
      "userId": "06927694896148305320"
     },
     "user_tz": 240
    },
    "id": "rVXgfGBcV_3y"
   },
   "outputs": [],
   "source": [
    "import pandas as pd"
   ]
  },
  {
   "cell_type": "markdown",
   "metadata": {
    "id": "SI0DKpp3V_3z"
   },
   "source": [
    "You can check the version of the library. Because pandas is fast-evolving library, you want to make sure that you have the up-to-date version of the library. "
   ]
  },
  {
   "cell_type": "code",
   "execution_count": 2,
   "metadata": {
    "colab": {
     "base_uri": "https://localhost:8080/",
     "height": 36
    },
    "execution": {
     "iopub.execute_input": "2020-05-17T21:06:41.885Z",
     "iopub.status.busy": "2020-05-17T21:06:41.867Z",
     "iopub.status.idle": "2020-05-17T21:06:41.919Z",
     "shell.execute_reply": "2020-05-17T21:06:41.935Z"
    },
    "executionInfo": {
     "elapsed": 575,
     "status": "ok",
     "timestamp": 1684852729059,
     "user": {
      "displayName": "Vincent Wong",
      "userId": "06927694896148305320"
     },
     "user_tz": 240
    },
    "id": "BySTPnrkV_3z",
    "outputId": "f2717ef8-413e-4295-9eb9-1c0b46c9c08e"
   },
   "outputs": [
    {
     "data": {
      "text/plain": [
       "'1.5.3'"
      ]
     },
     "execution_count": 2,
     "metadata": {},
     "output_type": "execute_result"
    }
   ],
   "source": [
    "pd.__version__"
   ]
  },
  {
   "cell_type": "markdown",
   "metadata": {
    "id": "O_VHaBeJV_30"
   },
   "source": [
    "You also need `matplotlib`, which is used by `pandas` to plot figures. The following is the most common convention to import `matplotlib` library. "
   ]
  },
  {
   "cell_type": "code",
   "execution_count": 3,
   "metadata": {
    "execution": {
     "iopub.execute_input": "2020-05-17T21:06:43.626Z",
     "iopub.status.busy": "2020-05-17T21:06:43.613Z",
     "iopub.status.idle": "2020-05-17T21:06:43.889Z",
     "shell.execute_reply": "2020-05-17T21:06:43.910Z"
    },
    "executionInfo": {
     "elapsed": 4,
     "status": "ok",
     "timestamp": 1684852730215,
     "user": {
      "displayName": "Vincent Wong",
      "userId": "06927694896148305320"
     },
     "user_tz": 240
    },
    "id": "DYL0_pF_V_31"
   },
   "outputs": [],
   "source": [
    "import matplotlib.pyplot as plt"
   ]
  },
  {
   "cell_type": "markdown",
   "metadata": {
    "id": "6XjKV55tV_31"
   },
   "source": [
    "Let's check its version too. "
   ]
  },
  {
   "cell_type": "code",
   "execution_count": 4,
   "metadata": {
    "colab": {
     "base_uri": "https://localhost:8080/",
     "height": 36
    },
    "execution": {
     "iopub.execute_input": "2020-05-17T21:06:45.160Z",
     "iopub.status.busy": "2020-05-17T21:06:45.146Z",
     "iopub.status.idle": "2020-05-17T21:06:45.187Z",
     "shell.execute_reply": "2020-05-17T21:06:45.201Z"
    },
    "executionInfo": {
     "elapsed": 6,
     "status": "ok",
     "timestamp": 1684852731736,
     "user": {
      "displayName": "Vincent Wong",
      "userId": "06927694896148305320"
     },
     "user_tz": 240
    },
    "id": "R-tadeEdV_31",
    "outputId": "e53b2b48-806b-42d1-b997-c1fadc5d7d7d"
   },
   "outputs": [
    {
     "data": {
      "text/plain": [
       "'3.5.1'"
      ]
     },
     "execution_count": 4,
     "metadata": {},
     "output_type": "execute_result"
    }
   ],
   "source": [
    "import matplotlib\n",
    "matplotlib.__version__"
   ]
  },
  {
   "cell_type": "markdown",
   "metadata": {
    "id": "QMUK2TQiV_32"
   },
   "source": [
    "## Loading a CSV data file\n",
    "\n",
    "Using pandas, you can read tabular data files in [many formats and through many protocols](https://pandas.pydata.org/pandas-docs/stable/io.html). Pandas supports not only flat files such as `.csv`, but also various other formats including clipboard, Excel, JSON, HTML, Feather, Parquet, SQL, Google BigQuery, and so on. Moreover, you can pass a local file path or a URL. If it's on Amazon S3, just pass a url like `s3://path/to/file.csv`. If it's on a webpage, then just use `https://some/url.csv`. \n",
    "\n",
    "Let's load a dataset about the location of pumps in the John Snow's map. You can download the file to your computer and try to load it using the local path too. "
   ]
  },
  {
   "cell_type": "code",
   "execution_count": 5,
   "metadata": {
    "execution": {
     "iopub.execute_input": "2020-05-17T21:06:46.182Z",
     "iopub.status.busy": "2020-05-17T21:06:46.167Z",
     "iopub.status.idle": "2020-05-17T21:06:46.474Z",
     "shell.execute_reply": "2020-05-17T21:06:46.486Z"
    },
    "executionInfo": {
     "elapsed": 176,
     "status": "ok",
     "timestamp": 1684852732339,
     "user": {
      "displayName": "Vincent Wong",
      "userId": "06927694896148305320"
     },
     "user_tz": 240
    },
    "id": "dGK4SkbHV_32"
   },
   "outputs": [],
   "source": [
    "pump_df = pd.read_csv('https://raw.githubusercontent.com/yy/dviz-course/master/data/pumps.csv')"
   ]
  },
  {
   "cell_type": "markdown",
   "metadata": {
    "id": "ETf0JhXDV_32"
   },
   "source": [
    "`df` stands for \"[Data Frame](https://pandas.pydata.org/pandas-docs/stable/dsintro.html#dataframe)\", which is a fundamental data object in Pandas. You can take a look at the dataset by looking at the first few lines."
   ]
  },
  {
   "cell_type": "code",
   "execution_count": 6,
   "metadata": {
    "colab": {
     "base_uri": "https://localhost:8080/",
     "height": 206
    },
    "execution": {
     "iopub.execute_input": "2020-05-17T21:06:47.628Z",
     "iopub.status.busy": "2020-05-17T21:06:47.618Z",
     "iopub.status.idle": "2020-05-17T21:06:47.654Z",
     "shell.execute_reply": "2020-05-17T21:06:47.667Z"
    },
    "executionInfo": {
     "elapsed": 8,
     "status": "ok",
     "timestamp": 1684852732525,
     "user": {
      "displayName": "Vincent Wong",
      "userId": "06927694896148305320"
     },
     "user_tz": 240
    },
    "id": "zGYO51jUV_32",
    "outputId": "db2760ce-83b1-4b0f-a1f9-e109f52d4227"
   },
   "outputs": [
    {
     "data": {
      "text/html": [
       "<div>\n",
       "<style scoped>\n",
       "    .dataframe tbody tr th:only-of-type {\n",
       "        vertical-align: middle;\n",
       "    }\n",
       "\n",
       "    .dataframe tbody tr th {\n",
       "        vertical-align: top;\n",
       "    }\n",
       "\n",
       "    .dataframe thead th {\n",
       "        text-align: right;\n",
       "    }\n",
       "</style>\n",
       "<table border=\"1\" class=\"dataframe\">\n",
       "  <thead>\n",
       "    <tr style=\"text-align: right;\">\n",
       "      <th></th>\n",
       "      <th>X</th>\n",
       "      <th>Y</th>\n",
       "    </tr>\n",
       "  </thead>\n",
       "  <tbody>\n",
       "    <tr>\n",
       "      <th>0</th>\n",
       "      <td>8.651201</td>\n",
       "      <td>17.891600</td>\n",
       "    </tr>\n",
       "    <tr>\n",
       "      <th>1</th>\n",
       "      <td>10.984780</td>\n",
       "      <td>18.517851</td>\n",
       "    </tr>\n",
       "    <tr>\n",
       "      <th>2</th>\n",
       "      <td>13.378190</td>\n",
       "      <td>17.394541</td>\n",
       "    </tr>\n",
       "    <tr>\n",
       "      <th>3</th>\n",
       "      <td>14.879830</td>\n",
       "      <td>17.809919</td>\n",
       "    </tr>\n",
       "    <tr>\n",
       "      <th>4</th>\n",
       "      <td>8.694768</td>\n",
       "      <td>14.905470</td>\n",
       "    </tr>\n",
       "  </tbody>\n",
       "</table>\n",
       "</div>"
      ],
      "text/plain": [
       "           X          Y\n",
       "0   8.651201  17.891600\n",
       "1  10.984780  18.517851\n",
       "2  13.378190  17.394541\n",
       "3  14.879830  17.809919\n",
       "4   8.694768  14.905470"
      ]
     },
     "execution_count": 6,
     "metadata": {},
     "output_type": "execute_result"
    }
   ],
   "source": [
    "pump_df.head() "
   ]
  },
  {
   "cell_type": "markdown",
   "metadata": {
    "id": "JIYL_rpIV_33"
   },
   "source": [
    "**Q1: can you print only the first three lines?** Refer: http://pandas.pydata.org/pandas-docs/stable/index.html"
   ]
  },
  {
   "cell_type": "code",
   "execution_count": 7,
   "metadata": {
    "colab": {
     "base_uri": "https://localhost:8080/",
     "height": 143
    },
    "execution": {
     "iopub.execute_input": "2020-05-17T21:06:49.405Z",
     "iopub.status.busy": "2020-05-17T21:06:49.394Z",
     "iopub.status.idle": "2020-05-17T21:06:49.428Z",
     "shell.execute_reply": "2020-05-17T21:06:49.441Z"
    },
    "executionInfo": {
     "elapsed": 151,
     "status": "ok",
     "timestamp": 1684852736102,
     "user": {
      "displayName": "Vincent Wong",
      "userId": "06927694896148305320"
     },
     "user_tz": 240
    },
    "id": "_OfZbRaIV_33",
    "outputId": "13874dc9-672e-48d4-d9ec-79dfaeadb2a4"
   },
   "outputs": [
    {
     "data": {
      "text/html": [
       "<div>\n",
       "<style scoped>\n",
       "    .dataframe tbody tr th:only-of-type {\n",
       "        vertical-align: middle;\n",
       "    }\n",
       "\n",
       "    .dataframe tbody tr th {\n",
       "        vertical-align: top;\n",
       "    }\n",
       "\n",
       "    .dataframe thead th {\n",
       "        text-align: right;\n",
       "    }\n",
       "</style>\n",
       "<table border=\"1\" class=\"dataframe\">\n",
       "  <thead>\n",
       "    <tr style=\"text-align: right;\">\n",
       "      <th></th>\n",
       "      <th>X</th>\n",
       "      <th>Y</th>\n",
       "    </tr>\n",
       "  </thead>\n",
       "  <tbody>\n",
       "    <tr>\n",
       "      <th>0</th>\n",
       "      <td>8.651201</td>\n",
       "      <td>17.891600</td>\n",
       "    </tr>\n",
       "    <tr>\n",
       "      <th>1</th>\n",
       "      <td>10.984780</td>\n",
       "      <td>18.517851</td>\n",
       "    </tr>\n",
       "    <tr>\n",
       "      <th>2</th>\n",
       "      <td>13.378190</td>\n",
       "      <td>17.394541</td>\n",
       "    </tr>\n",
       "  </tbody>\n",
       "</table>\n",
       "</div>"
      ],
      "text/plain": [
       "           X          Y\n",
       "0   8.651201  17.891600\n",
       "1  10.984780  18.517851\n",
       "2  13.378190  17.394541"
      ]
     },
     "execution_count": 7,
     "metadata": {},
     "output_type": "execute_result"
    }
   ],
   "source": [
    "pump_df.head(n=3)"
   ]
  },
  {
   "cell_type": "markdown",
   "metadata": {
    "id": "Ab0-qKj0V_33"
   },
   "source": [
    "You can also sample several rows randomly. If the data is sorted in some ways, sampling may give you a rather unbiased view of the dataset.  "
   ]
  },
  {
   "cell_type": "code",
   "execution_count": 8,
   "metadata": {
    "colab": {
     "base_uri": "https://localhost:8080/",
     "height": 206
    },
    "executionInfo": {
     "elapsed": 7,
     "status": "ok",
     "timestamp": 1684852736959,
     "user": {
      "displayName": "Vincent Wong",
      "userId": "06927694896148305320"
     },
     "user_tz": 240
    },
    "id": "fCVmeLMiV_33",
    "outputId": "ee2c2626-2e71-4103-b6e6-4ea9f0d95fc7"
   },
   "outputs": [
    {
     "data": {
      "text/html": [
       "<div>\n",
       "<style scoped>\n",
       "    .dataframe tbody tr th:only-of-type {\n",
       "        vertical-align: middle;\n",
       "    }\n",
       "\n",
       "    .dataframe tbody tr th {\n",
       "        vertical-align: top;\n",
       "    }\n",
       "\n",
       "    .dataframe thead th {\n",
       "        text-align: right;\n",
       "    }\n",
       "</style>\n",
       "<table border=\"1\" class=\"dataframe\">\n",
       "  <thead>\n",
       "    <tr style=\"text-align: right;\">\n",
       "      <th></th>\n",
       "      <th>X</th>\n",
       "      <th>Y</th>\n",
       "    </tr>\n",
       "  </thead>\n",
       "  <tbody>\n",
       "    <tr>\n",
       "      <th>12</th>\n",
       "      <td>8.999440</td>\n",
       "      <td>5.101023</td>\n",
       "    </tr>\n",
       "    <tr>\n",
       "      <th>4</th>\n",
       "      <td>8.694768</td>\n",
       "      <td>14.905470</td>\n",
       "    </tr>\n",
       "    <tr>\n",
       "      <th>5</th>\n",
       "      <td>8.864416</td>\n",
       "      <td>12.753540</td>\n",
       "    </tr>\n",
       "    <tr>\n",
       "      <th>1</th>\n",
       "      <td>10.984780</td>\n",
       "      <td>18.517851</td>\n",
       "    </tr>\n",
       "    <tr>\n",
       "      <th>0</th>\n",
       "      <td>8.651201</td>\n",
       "      <td>17.891600</td>\n",
       "    </tr>\n",
       "  </tbody>\n",
       "</table>\n",
       "</div>"
      ],
      "text/plain": [
       "            X          Y\n",
       "12   8.999440   5.101023\n",
       "4    8.694768  14.905470\n",
       "5    8.864416  12.753540\n",
       "1   10.984780  18.517851\n",
       "0    8.651201  17.891600"
      ]
     },
     "execution_count": 8,
     "metadata": {},
     "output_type": "execute_result"
    }
   ],
   "source": [
    "pump_df.sample(5)"
   ]
  },
  {
   "cell_type": "markdown",
   "metadata": {
    "id": "InRQ69SmV_34"
   },
   "source": [
    "You can also figure out the number of rows in the dataset by running "
   ]
  },
  {
   "cell_type": "code",
   "execution_count": 9,
   "metadata": {
    "colab": {
     "base_uri": "https://localhost:8080/"
    },
    "execution": {
     "iopub.execute_input": "2020-05-17T21:07:19.267Z",
     "iopub.status.busy": "2020-05-17T21:07:19.255Z",
     "iopub.status.idle": "2020-05-17T21:07:19.295Z",
     "shell.execute_reply": "2020-05-17T21:07:19.308Z"
    },
    "executionInfo": {
     "elapsed": 8,
     "status": "ok",
     "timestamp": 1684852738371,
     "user": {
      "displayName": "Vincent Wong",
      "userId": "06927694896148305320"
     },
     "user_tz": 240
    },
    "id": "-VPiKjlfV_34",
    "outputId": "19d6a2e8-0039-489c-9c4b-6879a47a5af2"
   },
   "outputs": [
    {
     "data": {
      "text/plain": [
       "13"
      ]
     },
     "execution_count": 9,
     "metadata": {},
     "output_type": "execute_result"
    }
   ],
   "source": [
    "len(pump_df)"
   ]
  },
  {
   "cell_type": "markdown",
   "metadata": {
    "id": "M-W9EAIqV_34"
   },
   "source": [
    "Note that `df.size` does not give you the number of rows. It tells you the number of elements. "
   ]
  },
  {
   "cell_type": "code",
   "execution_count": 10,
   "metadata": {
    "colab": {
     "base_uri": "https://localhost:8080/"
    },
    "executionInfo": {
     "elapsed": 7,
     "status": "ok",
     "timestamp": 1684852738371,
     "user": {
      "displayName": "Vincent Wong",
      "userId": "06927694896148305320"
     },
     "user_tz": 240
    },
    "id": "l-4RoaWiV_35",
    "outputId": "f09f8409-b518-49ec-b6aa-1f6415aa2590"
   },
   "outputs": [
    {
     "data": {
      "text/plain": [
       "26"
      ]
     },
     "execution_count": 10,
     "metadata": {},
     "output_type": "execute_result"
    }
   ],
   "source": [
    "pump_df.size"
   ]
  },
  {
   "cell_type": "markdown",
   "metadata": {
    "id": "QUzqWROJV_35"
   },
   "source": [
    "You can also look into the shape of the dataset as well as what are the columns in the dataset. "
   ]
  },
  {
   "cell_type": "code",
   "execution_count": 11,
   "metadata": {
    "colab": {
     "base_uri": "https://localhost:8080/"
    },
    "executionInfo": {
     "elapsed": 5,
     "status": "ok",
     "timestamp": 1684852738560,
     "user": {
      "displayName": "Vincent Wong",
      "userId": "06927694896148305320"
     },
     "user_tz": 240
    },
    "id": "Sva1ViTpV_35",
    "outputId": "caad0b5a-78cd-40a6-e9fa-3aad2388b82e"
   },
   "outputs": [
    {
     "data": {
      "text/plain": [
       "(13, 2)"
      ]
     },
     "execution_count": 11,
     "metadata": {},
     "output_type": "execute_result"
    }
   ],
   "source": [
    "pump_df.shape  # 13 rows and 2 columns"
   ]
  },
  {
   "cell_type": "code",
   "execution_count": 12,
   "metadata": {
    "colab": {
     "base_uri": "https://localhost:8080/"
    },
    "executionInfo": {
     "elapsed": 2,
     "status": "ok",
     "timestamp": 1684852738890,
     "user": {
      "displayName": "Vincent Wong",
      "userId": "06927694896148305320"
     },
     "user_tz": 240
    },
    "id": "d79EmD74V_36",
    "outputId": "386a787c-2235-4615-8ccf-7af4c73e1a26"
   },
   "outputs": [
    {
     "data": {
      "text/plain": [
       "Index(['X', 'Y'], dtype='object')"
      ]
     },
     "execution_count": 12,
     "metadata": {},
     "output_type": "execute_result"
    }
   ],
   "source": [
    "pump_df.columns"
   ]
  },
  {
   "cell_type": "markdown",
   "metadata": {
    "id": "ymyvkdS6V_36"
   },
   "source": [
    "You can also check out basic descriptive statistics of the whole dataset by using `describe()` method.  "
   ]
  },
  {
   "cell_type": "code",
   "execution_count": 13,
   "metadata": {
    "colab": {
     "base_uri": "https://localhost:8080/",
     "height": 300
    },
    "executionInfo": {
     "elapsed": 10,
     "status": "ok",
     "timestamp": 1684852739221,
     "user": {
      "displayName": "Vincent Wong",
      "userId": "06927694896148305320"
     },
     "user_tz": 240
    },
    "id": "fyY-fYaWV_36",
    "outputId": "1200a97d-417c-487b-f3ed-abe9431e8319"
   },
   "outputs": [
    {
     "data": {
      "text/html": [
       "<div>\n",
       "<style scoped>\n",
       "    .dataframe tbody tr th:only-of-type {\n",
       "        vertical-align: middle;\n",
       "    }\n",
       "\n",
       "    .dataframe tbody tr th {\n",
       "        vertical-align: top;\n",
       "    }\n",
       "\n",
       "    .dataframe thead th {\n",
       "        text-align: right;\n",
       "    }\n",
       "</style>\n",
       "<table border=\"1\" class=\"dataframe\">\n",
       "  <thead>\n",
       "    <tr style=\"text-align: right;\">\n",
       "      <th></th>\n",
       "      <th>X</th>\n",
       "      <th>Y</th>\n",
       "    </tr>\n",
       "  </thead>\n",
       "  <tbody>\n",
       "    <tr>\n",
       "      <th>count</th>\n",
       "      <td>13.000000</td>\n",
       "      <td>13.000000</td>\n",
       "    </tr>\n",
       "    <tr>\n",
       "      <th>mean</th>\n",
       "      <td>12.504677</td>\n",
       "      <td>11.963446</td>\n",
       "    </tr>\n",
       "    <tr>\n",
       "      <th>std</th>\n",
       "      <td>3.376869</td>\n",
       "      <td>4.957821</td>\n",
       "    </tr>\n",
       "    <tr>\n",
       "      <th>min</th>\n",
       "      <td>8.651201</td>\n",
       "      <td>5.046838</td>\n",
       "    </tr>\n",
       "    <tr>\n",
       "      <th>25%</th>\n",
       "      <td>8.999440</td>\n",
       "      <td>7.958250</td>\n",
       "    </tr>\n",
       "    <tr>\n",
       "      <th>50%</th>\n",
       "      <td>12.571360</td>\n",
       "      <td>11.727170</td>\n",
       "    </tr>\n",
       "    <tr>\n",
       "      <th>75%</th>\n",
       "      <td>14.879830</td>\n",
       "      <td>17.394541</td>\n",
       "    </tr>\n",
       "    <tr>\n",
       "      <th>max</th>\n",
       "      <td>18.914391</td>\n",
       "      <td>18.517851</td>\n",
       "    </tr>\n",
       "  </tbody>\n",
       "</table>\n",
       "</div>"
      ],
      "text/plain": [
       "               X          Y\n",
       "count  13.000000  13.000000\n",
       "mean   12.504677  11.963446\n",
       "std     3.376869   4.957821\n",
       "min     8.651201   5.046838\n",
       "25%     8.999440   7.958250\n",
       "50%    12.571360  11.727170\n",
       "75%    14.879830  17.394541\n",
       "max    18.914391  18.517851"
      ]
     },
     "execution_count": 13,
     "metadata": {},
     "output_type": "execute_result"
    }
   ],
   "source": [
    "pump_df.describe()"
   ]
  },
  {
   "cell_type": "markdown",
   "metadata": {
    "id": "4U61EDtTV_36"
   },
   "source": [
    "You can slice the data like a list"
   ]
  },
  {
   "cell_type": "code",
   "execution_count": 14,
   "metadata": {
    "colab": {
     "base_uri": "https://localhost:8080/",
     "height": 112
    },
    "executionInfo": {
     "elapsed": 6,
     "status": "ok",
     "timestamp": 1684852741180,
     "user": {
      "displayName": "Vincent Wong",
      "userId": "06927694896148305320"
     },
     "user_tz": 240
    },
    "id": "RyV59MJWV_37",
    "outputId": "8d2d0cd5-f38f-491d-f2d9-56b28a996565"
   },
   "outputs": [
    {
     "data": {
      "text/html": [
       "<div>\n",
       "<style scoped>\n",
       "    .dataframe tbody tr th:only-of-type {\n",
       "        vertical-align: middle;\n",
       "    }\n",
       "\n",
       "    .dataframe tbody tr th {\n",
       "        vertical-align: top;\n",
       "    }\n",
       "\n",
       "    .dataframe thead th {\n",
       "        text-align: right;\n",
       "    }\n",
       "</style>\n",
       "<table border=\"1\" class=\"dataframe\">\n",
       "  <thead>\n",
       "    <tr style=\"text-align: right;\">\n",
       "      <th></th>\n",
       "      <th>X</th>\n",
       "      <th>Y</th>\n",
       "    </tr>\n",
       "  </thead>\n",
       "  <tbody>\n",
       "    <tr>\n",
       "      <th>0</th>\n",
       "      <td>8.651201</td>\n",
       "      <td>17.891600</td>\n",
       "    </tr>\n",
       "    <tr>\n",
       "      <th>1</th>\n",
       "      <td>10.984780</td>\n",
       "      <td>18.517851</td>\n",
       "    </tr>\n",
       "  </tbody>\n",
       "</table>\n",
       "</div>"
      ],
      "text/plain": [
       "           X          Y\n",
       "0   8.651201  17.891600\n",
       "1  10.984780  18.517851"
      ]
     },
     "execution_count": 14,
     "metadata": {},
     "output_type": "execute_result"
    }
   ],
   "source": [
    "pump_df[:2]"
   ]
  },
  {
   "cell_type": "code",
   "execution_count": 15,
   "metadata": {
    "colab": {
     "base_uri": "https://localhost:8080/",
     "height": 112
    },
    "executionInfo": {
     "elapsed": 9,
     "status": "ok",
     "timestamp": 1684852741342,
     "user": {
      "displayName": "Vincent Wong",
      "userId": "06927694896148305320"
     },
     "user_tz": 240
    },
    "id": "ER3mP87SV_37",
    "outputId": "810c34c9-758f-4855-b7d0-0eda0f126e89"
   },
   "outputs": [
    {
     "data": {
      "text/html": [
       "<div>\n",
       "<style scoped>\n",
       "    .dataframe tbody tr th:only-of-type {\n",
       "        vertical-align: middle;\n",
       "    }\n",
       "\n",
       "    .dataframe tbody tr th {\n",
       "        vertical-align: top;\n",
       "    }\n",
       "\n",
       "    .dataframe thead th {\n",
       "        text-align: right;\n",
       "    }\n",
       "</style>\n",
       "<table border=\"1\" class=\"dataframe\">\n",
       "  <thead>\n",
       "    <tr style=\"text-align: right;\">\n",
       "      <th></th>\n",
       "      <th>X</th>\n",
       "      <th>Y</th>\n",
       "    </tr>\n",
       "  </thead>\n",
       "  <tbody>\n",
       "    <tr>\n",
       "      <th>11</th>\n",
       "      <td>16.00511</td>\n",
       "      <td>5.046838</td>\n",
       "    </tr>\n",
       "    <tr>\n",
       "      <th>12</th>\n",
       "      <td>8.99944</td>\n",
       "      <td>5.101023</td>\n",
       "    </tr>\n",
       "  </tbody>\n",
       "</table>\n",
       "</div>"
      ],
      "text/plain": [
       "           X         Y\n",
       "11  16.00511  5.046838\n",
       "12   8.99944  5.101023"
      ]
     },
     "execution_count": 15,
     "metadata": {},
     "output_type": "execute_result"
    }
   ],
   "source": [
    "pump_df[-2:]"
   ]
  },
  {
   "cell_type": "code",
   "execution_count": 16,
   "metadata": {
    "colab": {
     "base_uri": "https://localhost:8080/",
     "height": 174
    },
    "executionInfo": {
     "elapsed": 9,
     "status": "ok",
     "timestamp": 1684852741343,
     "user": {
      "displayName": "Vincent Wong",
      "userId": "06927694896148305320"
     },
     "user_tz": 240
    },
    "id": "jG8Kof38V_37",
    "outputId": "a5eeaf6c-d4fc-4e10-b75d-79304972fc6e"
   },
   "outputs": [
    {
     "data": {
      "text/html": [
       "<div>\n",
       "<style scoped>\n",
       "    .dataframe tbody tr th:only-of-type {\n",
       "        vertical-align: middle;\n",
       "    }\n",
       "\n",
       "    .dataframe tbody tr th {\n",
       "        vertical-align: top;\n",
       "    }\n",
       "\n",
       "    .dataframe thead th {\n",
       "        text-align: right;\n",
       "    }\n",
       "</style>\n",
       "<table border=\"1\" class=\"dataframe\">\n",
       "  <thead>\n",
       "    <tr style=\"text-align: right;\">\n",
       "      <th></th>\n",
       "      <th>X</th>\n",
       "      <th>Y</th>\n",
       "    </tr>\n",
       "  </thead>\n",
       "  <tbody>\n",
       "    <tr>\n",
       "      <th>1</th>\n",
       "      <td>10.984780</td>\n",
       "      <td>18.517851</td>\n",
       "    </tr>\n",
       "    <tr>\n",
       "      <th>2</th>\n",
       "      <td>13.378190</td>\n",
       "      <td>17.394541</td>\n",
       "    </tr>\n",
       "    <tr>\n",
       "      <th>3</th>\n",
       "      <td>14.879830</td>\n",
       "      <td>17.809919</td>\n",
       "    </tr>\n",
       "    <tr>\n",
       "      <th>4</th>\n",
       "      <td>8.694768</td>\n",
       "      <td>14.905470</td>\n",
       "    </tr>\n",
       "  </tbody>\n",
       "</table>\n",
       "</div>"
      ],
      "text/plain": [
       "           X          Y\n",
       "1  10.984780  18.517851\n",
       "2  13.378190  17.394541\n",
       "3  14.879830  17.809919\n",
       "4   8.694768  14.905470"
      ]
     },
     "execution_count": 16,
     "metadata": {},
     "output_type": "execute_result"
    }
   ],
   "source": [
    "pump_df[1:5]"
   ]
  },
  {
   "cell_type": "markdown",
   "metadata": {
    "id": "Swl_9wtdV_37"
   },
   "source": [
    "or filter rows using some conditions. "
   ]
  },
  {
   "cell_type": "code",
   "execution_count": 17,
   "metadata": {
    "colab": {
     "base_uri": "https://localhost:8080/",
     "height": 237
    },
    "executionInfo": {
     "elapsed": 8,
     "status": "ok",
     "timestamp": 1684852741343,
     "user": {
      "displayName": "Vincent Wong",
      "userId": "06927694896148305320"
     },
     "user_tz": 240
    },
    "id": "8oIj10ytV_37",
    "outputId": "bc4b7f7e-54a4-44b1-e344-e4946b27a5c1"
   },
   "outputs": [
    {
     "data": {
      "text/html": [
       "<div>\n",
       "<style scoped>\n",
       "    .dataframe tbody tr th:only-of-type {\n",
       "        vertical-align: middle;\n",
       "    }\n",
       "\n",
       "    .dataframe tbody tr th {\n",
       "        vertical-align: top;\n",
       "    }\n",
       "\n",
       "    .dataframe thead th {\n",
       "        text-align: right;\n",
       "    }\n",
       "</style>\n",
       "<table border=\"1\" class=\"dataframe\">\n",
       "  <thead>\n",
       "    <tr style=\"text-align: right;\">\n",
       "      <th></th>\n",
       "      <th>X</th>\n",
       "      <th>Y</th>\n",
       "    </tr>\n",
       "  </thead>\n",
       "  <tbody>\n",
       "    <tr>\n",
       "      <th>2</th>\n",
       "      <td>13.378190</td>\n",
       "      <td>17.394541</td>\n",
       "    </tr>\n",
       "    <tr>\n",
       "      <th>3</th>\n",
       "      <td>14.879830</td>\n",
       "      <td>17.809919</td>\n",
       "    </tr>\n",
       "    <tr>\n",
       "      <th>8</th>\n",
       "      <td>13.521460</td>\n",
       "      <td>7.958250</td>\n",
       "    </tr>\n",
       "    <tr>\n",
       "      <th>9</th>\n",
       "      <td>16.434891</td>\n",
       "      <td>9.252130</td>\n",
       "    </tr>\n",
       "    <tr>\n",
       "      <th>10</th>\n",
       "      <td>18.914391</td>\n",
       "      <td>9.737819</td>\n",
       "    </tr>\n",
       "    <tr>\n",
       "      <th>11</th>\n",
       "      <td>16.005110</td>\n",
       "      <td>5.046838</td>\n",
       "    </tr>\n",
       "  </tbody>\n",
       "</table>\n",
       "</div>"
      ],
      "text/plain": [
       "            X          Y\n",
       "2   13.378190  17.394541\n",
       "3   14.879830  17.809919\n",
       "8   13.521460   7.958250\n",
       "9   16.434891   9.252130\n",
       "10  18.914391   9.737819\n",
       "11  16.005110   5.046838"
      ]
     },
     "execution_count": 17,
     "metadata": {},
     "output_type": "execute_result"
    }
   ],
   "source": [
    "pump_df[pump_df.X > 13]"
   ]
  },
  {
   "cell_type": "markdown",
   "metadata": {
    "id": "HqcwcbD1V_38"
   },
   "source": [
    "Now let's load another CSV file that documents the cholera deaths. The URL is https://raw.githubusercontent.com/yy/dviz-course/master/data/deaths.csv\n",
    "\n",
    "**Q2: load the death dataset and inspect it**\n",
    "\n",
    "1. **load this dataset as `death_df`.**\n",
    "2. **show the first 2 rows.**\n",
    "3. **show the total number of rows.**"
   ]
  },
  {
   "cell_type": "code",
   "execution_count": 18,
   "metadata": {
    "executionInfo": {
     "elapsed": 8,
     "status": "ok",
     "timestamp": 1684852741344,
     "user": {
      "displayName": "Vincent Wong",
      "userId": "06927694896148305320"
     },
     "user_tz": 240
    },
    "id": "etpbYVYWV_38"
   },
   "outputs": [],
   "source": [
    "death_df = pd.read_csv('https://raw.githubusercontent.com/yy/dviz-course/master/data/deaths.csv')"
   ]
  },
  {
   "cell_type": "code",
   "execution_count": 19,
   "metadata": {},
   "outputs": [
    {
     "data": {
      "text/html": [
       "<div>\n",
       "<style scoped>\n",
       "    .dataframe tbody tr th:only-of-type {\n",
       "        vertical-align: middle;\n",
       "    }\n",
       "\n",
       "    .dataframe tbody tr th {\n",
       "        vertical-align: top;\n",
       "    }\n",
       "\n",
       "    .dataframe thead th {\n",
       "        text-align: right;\n",
       "    }\n",
       "</style>\n",
       "<table border=\"1\" class=\"dataframe\">\n",
       "  <thead>\n",
       "    <tr style=\"text-align: right;\">\n",
       "      <th></th>\n",
       "      <th>X</th>\n",
       "      <th>Y</th>\n",
       "    </tr>\n",
       "  </thead>\n",
       "  <tbody>\n",
       "    <tr>\n",
       "      <th>0</th>\n",
       "      <td>13.588010</td>\n",
       "      <td>11.09560</td>\n",
       "    </tr>\n",
       "    <tr>\n",
       "      <th>1</th>\n",
       "      <td>9.878124</td>\n",
       "      <td>12.55918</td>\n",
       "    </tr>\n",
       "  </tbody>\n",
       "</table>\n",
       "</div>"
      ],
      "text/plain": [
       "           X         Y\n",
       "0  13.588010  11.09560\n",
       "1   9.878124  12.55918"
      ]
     },
     "execution_count": 19,
     "metadata": {},
     "output_type": "execute_result"
    }
   ],
   "source": [
    "death_df.head(n=2)"
   ]
  },
  {
   "cell_type": "code",
   "execution_count": 20,
   "metadata": {},
   "outputs": [
    {
     "data": {
      "text/plain": [
       "578"
      ]
     },
     "execution_count": 20,
     "metadata": {},
     "output_type": "execute_result"
    }
   ],
   "source": [
    "len(death_df)"
   ]
  },
  {
   "cell_type": "markdown",
   "metadata": {
    "id": "kAC-DH-hV_39"
   },
   "source": [
    "## Some visualizations?\n",
    "\n",
    "Let's visualize them! Pandas actually provides [a nice visualization interface](https://pandas.pydata.org/pandas-docs/stable/generated/pandas.DataFrame.plot.html) that uses [matplotlib](https://matplotlib.org) under the hood. You can do many basic plots without learning `matplotlib`. So let's try. "
   ]
  },
  {
   "cell_type": "code",
   "execution_count": 21,
   "metadata": {
    "colab": {
     "base_uri": "https://localhost:8080/",
     "height": 448
    },
    "executionInfo": {
     "elapsed": 367,
     "status": "ok",
     "timestamp": 1684852743183,
     "user": {
      "displayName": "Vincent Wong",
      "userId": "06927694896148305320"
     },
     "user_tz": 240
    },
    "id": "ph6kECE5V_39",
    "outputId": "e4523db1-b57a-4eaa-e2c2-a413f94b9efd"
   },
   "outputs": [
    {
     "data": {
      "text/plain": [
       "<AxesSubplot:>"
      ]
     },
     "execution_count": 21,
     "metadata": {},
     "output_type": "execute_result"
    },
    {
     "data": {
      "image/png": "[encoded data removed]",
      "text/plain": [
       "<Figure size 432x288 with 1 Axes>"
      ]
     },
     "metadata": {
      "needs_background": "light"
     },
     "output_type": "display_data"
    }
   ],
   "source": [
    "death_df.plot()"
   ]
  },
  {
   "cell_type": "markdown",
   "metadata": {
    "id": "H3W83prDV_39"
   },
   "source": [
    "This is not what we want! When asked to plot the data, it tries to figure out what we want based on the type of the data. However, that doesn't mean that it will successfully do so!\n",
    "\n",
    "Oh by the way, depending on your environment, you may not see any plot. If you don't see anything run the following command."
   ]
  },
  {
   "cell_type": "code",
   "execution_count": 22,
   "metadata": {
    "executionInfo": {
     "elapsed": 4,
     "status": "ok",
     "timestamp": 1684852744617,
     "user": {
      "displayName": "Vincent Wong",
      "userId": "06927694896148305320"
     },
     "user_tz": 240
    },
    "id": "gpU22pmjV_39"
   },
   "outputs": [],
   "source": [
    "%matplotlib inline"
   ]
  },
  {
   "cell_type": "markdown",
   "metadata": {
    "id": "L-fpNQYZV_3-"
   },
   "source": [
    "The commands that start with `%` is called [the magic commands](http://ipython.readthedocs.io/en/stable/interactive/magics.html#magic-matplotlib), which are available in IPython and Jupyter. The purpose of this command is telling the IPython / Jupyter to show the plot right here instead of trying to use other external viewers. "
   ]
  },
  {
   "cell_type": "markdown",
   "metadata": {
    "id": "T5xSTa1-V_3-"
   },
   "source": [
    "Anyway, this doesn't seem like the plot we want. Instead of putting each row as a point in a 2D plane by using the X and Y as the coordinate, it just created a line chart. Let's fix it. Please take a look at [the plot method documentation](https://pandas.pydata.org/pandas-docs/stable/generated/pandas.DataFrame.plot.html). How should we change the command? Which `kind` of plot do we want to draw? \n",
    "\n",
    "Yes, we want to draw a *scatter plot* using x and y as the Cartesian coordinates. "
   ]
  },
  {
   "cell_type": "code",
   "execution_count": 23,
   "metadata": {
    "colab": {
     "base_uri": "https://localhost:8080/",
     "height": 467
    },
    "executionInfo": {
     "elapsed": 236,
     "status": "ok",
     "timestamp": 1684852745073,
     "user": {
      "displayName": "Vincent Wong",
      "userId": "06927694896148305320"
     },
     "user_tz": 240
    },
    "id": "ua7HqxqzV_3-",
    "outputId": "f8384e7c-26c3-4975-8996-68c4c974762f"
   },
   "outputs": [
    {
     "data": {
      "text/plain": [
       "<AxesSubplot:xlabel='X', ylabel='Y'>"
      ]
     },
     "execution_count": 23,
     "metadata": {},
     "output_type": "execute_result"
    },
    {
     "data": {
      "image/png": "[encoded data removed]",
      "text/plain": [
       "<Figure size 432x288 with 1 Axes>"
      ]
     },
     "metadata": {
      "needs_background": "light"
     },
     "output_type": "display_data"
    }
   ],
   "source": [
    "death_df.plot(x='X', y='Y', kind='scatter', label='Deaths')"
   ]
  },
  {
   "cell_type": "markdown",
   "metadata": {
    "id": "orVd0jffV_3-"
   },
   "source": [
    "I think I want to reduce the size of the dots and change the color to black. But it is difficult to find how to do that! It is sometimes quite annoying to figure out how to change how the visualization looks, especially when we use `matplotlib`. Unlike some other advanced tools, `matplotlib` does not provide a very coherent way to adjust your visualizations. That's one of the reasons why there are lots of visualization libraries that *wrap* `matplotlib`. Anyway, this is how you do it. \n"
   ]
  },
  {
   "cell_type": "code",
   "execution_count": 24,
   "metadata": {
    "colab": {
     "base_uri": "https://localhost:8080/",
     "height": 467
    },
    "executionInfo": {
     "elapsed": 9,
     "status": "ok",
     "timestamp": 1684852746794,
     "user": {
      "displayName": "Vincent Wong",
      "userId": "06927694896148305320"
     },
     "user_tz": 240
    },
    "id": "xJjY_vASV_3-",
    "outputId": "506e9547-11e7-4014-998d-2d637b0a1a11"
   },
   "outputs": [
    {
     "data": {
      "text/plain": [
       "<AxesSubplot:xlabel='X', ylabel='Y'>"
      ]
     },
     "execution_count": 24,
     "metadata": {},
     "output_type": "execute_result"
    },
    {
     "data": {
      "image/png": "[encoded data removed]",
      "text/plain": [
       "<Figure size 432x288 with 1 Axes>"
      ]
     },
     "metadata": {
      "needs_background": "light"
     },
     "output_type": "display_data"
    }
   ],
   "source": [
    "death_df.plot(x='X', y='Y', kind='scatter', label='Deaths', s=2, c='black')"
   ]
  },
  {
   "cell_type": "markdown",
   "metadata": {
    "id": "mmWz1z7AV_3_"
   },
   "source": [
    "Can we visualize both deaths and pumps? "
   ]
  },
  {
   "cell_type": "code",
   "execution_count": 25,
   "metadata": {
    "colab": {
     "base_uri": "https://localhost:8080/",
     "height": 899
    },
    "executionInfo": {
     "elapsed": 542,
     "status": "ok",
     "timestamp": 1684852747485,
     "user": {
      "displayName": "Vincent Wong",
      "userId": "06927694896148305320"
     },
     "user_tz": 240
    },
    "id": "ISvIDLRpV_3_",
    "outputId": "9da2877e-410e-4257-dc03-1b276586a7b8"
   },
   "outputs": [
    {
     "data": {
      "text/plain": [
       "<AxesSubplot:xlabel='X', ylabel='Y'>"
      ]
     },
     "execution_count": 25,
     "metadata": {},
     "output_type": "execute_result"
    },
    {
     "data": {
      "image/png": "[encoded data removed]",
      "text/plain": [
       "<Figure size 432x288 with 1 Axes>"
      ]
     },
     "metadata": {
      "needs_background": "light"
     },
     "output_type": "display_data"
    },
    {
     "data": {
      "image/png": "[encoded data removed]",
      "text/plain": [
       "<Figure size 432x288 with 1 Axes>"
      ]
     },
     "metadata": {
      "needs_background": "light"
     },
     "output_type": "display_data"
    }
   ],
   "source": [
    "death_df.plot(x='X', y='Y', s=2, c='black', kind='scatter', label='Deaths')\n",
    "pump_df.plot(x='X', y='Y', kind='scatter', c='red', s=8, label='Pumps')"
   ]
  },
  {
   "cell_type": "markdown",
   "metadata": {
    "id": "Tm-WOGmxeVZ_"
   },
   "source": [
    "Oh well, this is not what we want! We want to overlay them to see them together, right? How can we do that? Before going into that, we probably want to understand some key components of matplotlib figures. "
   ]
  },
  {
   "cell_type": "markdown",
   "metadata": {
    "id": "I3WkLGsOV_3_"
   },
   "source": [
    "## Figure and Axes\n",
    "\n",
    "Why do we have two separate plots? The reason is that, by default, the `plot` method creates a new \\emph{figure} instead of putting them inside a single figure. In order to avoid it, we need to either create an [Axes](https://matplotlib.org/api/axes_api.html) and tell `plot` to use that axes. What is an `axes`? See this illustration. \n",
    "\n",
    "<img src=\"https://matplotlib.org/1.5.1/_images/fig_map.png\" alt=\"figure, axes, and axis\" style=\"width: 500px;\"/>\n",
    "\n",
    "\n",
    "A figure can contain multiple axes ([link](https://matplotlib.org/gallery/subplots_axes_and_figures/subplot_demo.html#sphx-glr-gallery-subplots-axes-and-figures-subplot-demo-py)). The figure below contains two axes:\n",
    "\n",
    "![multipleaxes](https://matplotlib.org/_images/sphx_glr_subplot_demo_001.png)\n",
    "\n",
    "and an axes can contain multiple plots ([link](https://matplotlib.org/gallery/api/two_scales.html#sphx-glr-gallery-api-two-scales-py)). \n",
    "\n",
    "![multipleplots](https://matplotlib.org/_images/sphx_glr_two_scales_001.png)\n",
    "\n",
    "Conveniently, when you call `plot` method, it creates an axes and returns it to you"
   ]
  },
  {
   "cell_type": "code",
   "execution_count": 26,
   "metadata": {
    "colab": {
     "base_uri": "https://localhost:8080/",
     "height": 449
    },
    "executionInfo": {
     "elapsed": 166,
     "status": "ok",
     "timestamp": 1684852749490,
     "user": {
      "displayName": "Vincent Wong",
      "userId": "06927694896148305320"
     },
     "user_tz": 240
    },
    "id": "LCXtKHnNV_3_",
    "outputId": "d55f0eb2-7fee-420f-b0d2-a6be709b3bbd"
   },
   "outputs": [
    {
     "data": {
      "image/png": "[encoded data removed]",
      "text/plain": [
       "<Figure size 640x480 with 1 Axes>"
      ]
     },
     "metadata": {},
     "output_type": "display_data"
    }
   ],
   "source": [
    "ax = death_df.plot(x='X', y='Y', s=2, c='black', kind='scatter', label='Deaths')"
   ]
  },
  {
   "cell_type": "code",
   "execution_count": 27,
   "metadata": {
    "colab": {
     "base_uri": "https://localhost:8080/"
    },
    "executionInfo": {
     "elapsed": 10,
     "status": "ok",
     "timestamp": 1684852749491,
     "user": {
      "displayName": "Vincent Wong",
      "userId": "06927694896148305320"
     },
     "user_tz": 240
    },
    "id": "HW1x9mSPV_3_",
    "outputId": "1977941e-e753-4578-cf2d-e608fe4604d7"
   },
   "outputs": [
    {
     "data": {
      "text/plain": [
       "<Axes: xlabel='X', ylabel='Y'>"
      ]
     },
     "execution_count": 27,
     "metadata": {},
     "output_type": "execute_result"
    }
   ],
   "source": [
    "ax"
   ]
  },
  {
   "cell_type": "markdown",
   "metadata": {
    "id": "B3dp1tBFV_4A"
   },
   "source": [
    "This object contains all the information and objects in the plot we see. Whatever we want to do with this axes (e.g., changing x or y scale, overlaying other data, changing the color or size of symbols, etc.) can be done by accessing this object. \n",
    "\n",
    "Then you can pass this axes object to another plot to put both plots in the same axes. Note `ax=ax` in the second plot command. It tells the plot command _where_ to draw the points. "
   ]
  },
  {
   "cell_type": "code",
   "execution_count": 28,
   "metadata": {
    "colab": {
     "base_uri": "https://localhost:8080/",
     "height": 467
    },
    "executionInfo": {
     "elapsed": 351,
     "status": "ok",
     "timestamp": 1684852751467,
     "user": {
      "displayName": "Vincent Wong",
      "userId": "06927694896148305320"
     },
     "user_tz": 240
    },
    "id": "C1Q8tKHLV_4A",
    "outputId": "3f46d485-8359-42f6-ea7b-006a31f4f3bb"
   },
   "outputs": [
    {
     "data": {
      "text/plain": [
       "<Axes: xlabel='X', ylabel='Y'>"
      ]
     },
     "execution_count": 28,
     "metadata": {},
     "output_type": "execute_result"
    },
    {
     "data": {
      "image/png": "[encoded data removed]",
      "text/plain": [
       "<Figure size 640x480 with 1 Axes>"
      ]
     },
     "metadata": {},
     "output_type": "display_data"
    }
   ],
   "source": [
    "ax = death_df.plot(x='X', y='Y', s=2, c='black', alpha=0.5, kind='scatter', label='Deaths')\n",
    "pump_df.plot(x='X', y='Y', kind='scatter', c='red', s=8, label='Pumps', ax=ax)"
   ]
  },
  {
   "cell_type": "markdown",
   "metadata": {
    "id": "OZN7reANV_4A"
   },
   "source": [
    "Although simply invoking the `plot()` command is quick and easy when doing an exploratory data analysis, it is usually better to be formal about figure and axes objects. \n",
    "\n",
    "Here is the recommended way to create a plot. Call the `subplots()` method (see https://matplotlib.org/3.2.1/api/_as_gen/matplotlib.pyplot.subplots.html) to get the figure and axes objects explicitly. \n",
    "\n",
    "As you can see below, `subplots()` creates an empty figure and returns the figure and axes object to you. Then you can fill this empty canvas with your plots. Whatever manipulation you want to make about your figure (e.g., changing the size of the figure) or axes (e.g., drawing a new plot on it) can be done with `fig` and `ax` objects. So whenever possible, use this method! \n",
    "\n",
    "**Now, can you use this method to produce the same plot just above?**"
   ]
  },
  {
   "cell_type": "code",
   "execution_count": 27,
   "metadata": {
    "colab": {
     "base_uri": "https://localhost:8080/",
     "height": 467
    },
    "executionInfo": {
     "elapsed": 315,
     "status": "ok",
     "timestamp": 1684852751966,
     "user": {
      "displayName": "Vincent Wong",
      "userId": "06927694896148305320"
     },
     "user_tz": 240
    },
    "id": "1eIf1U3-V_4A",
    "outputId": "1a9363ac-7d15-4f30-f362-e01cd35502bd"
   },
   "outputs": [
    {
     "data": {
      "image/png": "[encoded data removed]",
      "text/plain": [
       "<Figure size 432x288 with 1 Axes>"
      ]
     },
     "metadata": {
      "needs_background": "light"
     },
     "output_type": "display_data"
    }
   ],
   "source": [
    "import matplotlib.pyplot as plt\n",
    "fig, ax = plt.subplots()\n",
    "\n",
    "ax.scatter(death_df['X'], death_df['Y'], s=2, c='black', alpha=0.5, label='Deaths')\n",
    "ax.scatter(pump_df['X'], pump_df['Y'], s=8, c='red', label='Pumps')\n",
    "\n",
    "ax.set_xlabel('X')\n",
    "ax.set_ylabel('Y')\n",
    "ax.legend()\n",
    "\n",
    "plt.show()"
   ]
  },
  {
   "cell_type": "markdown",
   "metadata": {
    "id": "6D35-mOsV_4B"
   },
   "source": [
    "## Voronoi diagram\n",
    "\n",
    "Let's try the Voronoi diagram. You can use the `scipy.spatial.Voronoi` and `scipy.spatial.voronoi_plot_2d` from `scipy`, the *scientific python* library. "
   ]
  },
  {
   "cell_type": "code",
   "execution_count": 28,
   "metadata": {
    "executionInfo": {
     "elapsed": 3,
     "status": "ok",
     "timestamp": 1684852753406,
     "user": {
      "displayName": "Vincent Wong",
      "userId": "06927694896148305320"
     },
     "user_tz": 240
    },
    "id": "KhTMAkUXV_4B"
   },
   "outputs": [],
   "source": [
    "from scipy.spatial import Voronoi, voronoi_plot_2d"
   ]
  },
  {
   "cell_type": "markdown",
   "metadata": {
    "id": "Lh3AfTGYV_4B"
   },
   "source": [
    "Take a look at the documentation of [Voronoi](https://docs.scipy.org/doc/scipy-0.18.1/reference/generated/scipy.spatial.Voronoi.html#scipy.spatial.Voronoi) and [voronoi_plot_2d](https://docs.scipy.org/doc/scipy-0.18.1/reference/generated/scipy.spatial.voronoi_plot_2d.html) and \n",
    "\n",
    "**Q3: produce a Voronoi diagram that shows the deaths, pumps, and voronoi cells**"
   ]
  },
  {
   "cell_type": "code",
   "execution_count": 30,
   "metadata": {
    "colab": {
     "base_uri": "https://localhost:8080/"
    },
    "executionInfo": {
     "elapsed": 7,
     "status": "ok",
     "timestamp": 1684852753582,
     "user": {
      "displayName": "Vincent Wong",
      "userId": "06927694896148305320"
     },
     "user_tz": 240
    },
    "id": "wXwXlUiKV_4B",
    "outputId": "d8cc013e-949e-4198-c119-9e676ae063e7"
   },
   "outputs": [
    {
     "data": {
      "text/plain": [
       "array([[ 8.6512012, 17.8915997],\n",
       "       [10.9847803, 18.5178509],\n",
       "       [13.37819  , 17.3945408],\n",
       "       [14.8798304, 17.8099194],\n",
       "       [ 8.694768 , 14.9054699],\n",
       "       [ 8.8644161, 12.75354  ],\n",
       "       [12.5713596, 11.72717  ],\n",
       "       [10.6609697,  7.428647 ],\n",
       "       [13.5214596,  7.95825  ],\n",
       "       [16.4348907,  9.2521296],\n",
       "       [18.9143906,  9.7378187],\n",
       "       [16.0051098,  5.0468378],\n",
       "       [ 8.9994402,  5.1010232]])"
      ]
     },
     "execution_count": 30,
     "metadata": {},
     "output_type": "execute_result"
    }
   ],
   "source": [
    "# you'll need this\n",
    "points = pump_df.values\n",
    "points"
   ]
  },
  {
   "cell_type": "code",
   "execution_count": 38,
   "metadata": {
    "colab": {
     "base_uri": "https://localhost:8080/",
     "height": 449
    },
    "executionInfo": {
     "elapsed": 391,
     "status": "ok",
     "timestamp": 1684852753968,
     "user": {
      "displayName": "Vincent Wong",
      "userId": "06927694896148305320"
     },
     "user_tz": 240
    },
    "id": "M4rrcm6wV_4C",
    "outputId": "6c6b6302-a9c9-41c5-c5a3-bac6365448ba"
   },
   "outputs": [
    {
     "data": {
      "image/png": "[encoded data removed]",
      "text/plain": [
       "<Figure size 432x288 with 1 Axes>"
      ]
     },
     "metadata": {
      "needs_background": "light"
     },
     "output_type": "display_data"
    }
   ],
   "source": [
    "vor = Voronoi(points)\n",
    "voronoi_plot_2d(vor)\n",
    "plt.scatter(death_df['X'], death_df['Y'], s=2, c='black', alpha=0.5, label='Deaths')\n",
    "plt.legend()\n",
    "plt.show()\n"
   ]
  },
  {
   "cell_type": "markdown",
   "metadata": {
    "id": "aLkNmyE2V_4C"
   },
   "source": [
    "## Saving the figure\n",
    "\n",
    "You can also save your figure into PDF, PNG, etc. If you run the following, the plot will not only be displayed here, but also be saved as `foo.png`. "
   ]
  },
  {
   "cell_type": "code",
   "execution_count": 33,
   "metadata": {
    "colab": {
     "base_uri": "https://localhost:8080/",
     "height": 265
    },
    "id": "JzE4wyLFV_4C",
    "outputId": "c4d642c4-09b9-4ee4-8893-9db9c0c6b495"
   },
   "outputs": [
    {
     "data": {
      "image/png": "[encoded data removed]",
      "text/plain": [
       "<Figure size 640x480 with 1 Axes>"
      ]
     },
     "metadata": {},
     "output_type": "display_data"
    }
   ],
   "source": [
    "import matplotlib.pyplot as plt\n",
    "plt.plot([1,2,3], [4,2,3])\n",
    "plt.savefig('foo.png')"
   ]
  },
  {
   "cell_type": "markdown",
   "metadata": {
    "id": "MLPpKe0lV_4C"
   },
   "source": [
    "**Q4: Save your Voronoi diagram. Make sure that your plot contains the scatterplot of deaths & pumps as well as the Voronoi cells**"
   ]
  },
  {
   "cell_type": "code",
   "execution_count": 43,
   "metadata": {
    "colab": {
     "base_uri": "https://localhost:8080/",
     "height": 279
    },
    "id": "2Oc8emUJV_4D",
    "outputId": "6e550809-4c78-48f1-9998-c5193236d000"
   },
   "outputs": [
    {
     "data": {
      "image/png": "[encoded data removed]",
      "text/plain": [
       "<Figure size 432x288 with 1 Axes>"
      ]
     },
     "metadata": {
      "needs_background": "light"
     },
     "output_type": "display_data"
    }
   ],
   "source": [
    "vor = Voronoi(points)\n",
    "voronoi_plot_2d(vor)\n",
    "plt.scatter(death_df['X'], death_df['Y'], s=2, c='black', alpha=0.5, label='Deaths')\n",
    "plt.legend()\n",
    "plt.savefig('voronoi.png')\n",
    "plt.show()"
   ]
  },
  {
   "cell_type": "markdown",
   "metadata": {
    "id": "R2pVtuNAV_4D"
   },
   "source": [
    "Ok, that was a brief introduction to `pandas` and some simple visualizations. Now let's talk about web a little bit. "
   ]
  },
  {
   "cell_type": "markdown",
   "metadata": {
    "id": "3KVCBVJ7V_4D"
   },
   "source": [
    "## HTML & CSS Basics\n",
    "\n",
    "### HTML review\n",
    "\n",
    "Webpages are written in a standard markup language called HTML (HyperText Markup Language). The basic syntax of HTML consists of elements enclosed within `<` and `>` symbols. Markup tags often come in a pair, the opening tag without `/` and the closing tag with `/`. For instance, when we assign the title of the webpage, we write `<title>This is the title of the page</title>`. You can find tutorials and references from many websites, including [W3Schools](https://www.w3schools.com/). Here is an example of a simple HTML document (from w3schools homepage):\n",
    "\n",
    "```html\n",
    "<!DOCTYPE html>\n",
    "<html>\n",
    "<title>HTML Tutorial</title>\n",
    "<body>\n",
    "\n",
    "<h1>This is a heading</h1>\n",
    "<p>This is a paragraph.</p>\n",
    "\n",
    "</body>\n",
    "</html>\n",
    "```\n",
    "\n",
    "Here is a list of important tags and their descriptions.\n",
    "\n",
    "- `<html>` - Surrounds the entire document.\n",
    "\n",
    "- `<head>` - Contains information about the document. E.g. the title, metadata, scripts to load, stylesheets, etc.\n",
    "\n",
    "- `<title>` - Assigns title to the page. This is what you see in the tab and what you have when the page is bookmarked. \n",
    "\n",
    "- `<body>` - The main part of the document.\n",
    "\n",
    "- `<h1>`, `<h2>`, `<h3>`, ... - Headings (Smaller the number, larger the size).\n",
    "\n",
    "- `<p>` - Paragraph. e.g., `<p>Here is a paragraph</p>`\n",
    "\n",
    "- `<br>` - Line break.\n",
    "\n",
    "- `<em>` - emphasize text.\n",
    "\n",
    "- `<strong>` - Bold font.\n",
    "\n",
    "- `<a>` - Defines a hyperlink and allows you to link out to the other webpages. See [examples](https://www.w3schools.com/html/html_links.asp)\n",
    "\n",
    "- `<img>` - Place an image. See [examples](https://www.w3schools.com/html/html_images.asp)\n",
    "\n",
    "- `<ul>`, `<ol>`, `<li>` - Unordered lists with bullets, ordered lists with numbers and each item in list respectively. See [examples](https://www.w3schools.com/html/html_lists.asp)\n",
    "\n",
    "- `<table>` - Make a table, specifying contents of each cell. See [examples](https://www.w3schools.com/html/html_tables.asp)\n",
    "\n",
    "- `<!-->` - Comments – will not be displayed.\n",
    "\n",
    "- `<span>` - This will mark a certain part of text but will not necessarily change how they look. CSS or Javascript can access them and change how they look or behave. \n",
    "\n",
    "- `<div>` - Similar to `<span>`, but used for a block that contains many elements. \n",
    "\n",
    "### CSS review\n",
    "\n",
    "While HTML specifies the content and structure, it does not say how they should _look_. \n",
    "\n",
    "CSS (Cascading Style Sheets) is the primary language that is used for the look and formatting of a web document. In the context of creating visualization, CSS becomes critical when you create web-based (Javascript-based) visualizations.\n",
    "\n",
    "A CSS stylesheet consists of one or more selectors, properties and values. For example:\n",
    "\n",
    "```css\n",
    "body {   \n",
    "    background-color: white;   \n",
    "    color: steelblue;   \n",
    "}\n",
    "```\n",
    "\t\n",
    "Selectors are the HTML elements to which the specific styles (combination of properties and values) will be applied. In the above example, all text within the `body` tags will be in steelblue.\n",
    "\n",
    "There are three ways to include CSS code in HTML. This is called \"referencing\".\n",
    "\n",
    "Embed CSS in HTML - You can place the CSS code within `style` tags inside the `head` tags. This way you can keep everything within a single HTML file but does make the code lengthy.\n",
    "\n",
    "```html\n",
    "<head>  \t\t\t\n",
    "  <style type=\"text/css\">\n",
    "      .description {\n",
    "      font: 16px times-new-roman;\n",
    "      }\n",
    "      .viz {\n",
    "      font: 10px sans-serif;\n",
    "      } \n",
    "  </style>\n",
    "</head>\n",
    "```\n",
    "Reference an external stylesheet from HTML is a much cleaner way but results in the creation of another file. To do this, you can copy the CSS code into a text file and save it as a `.css` file in the same folder as the HTML file. In the document head in the HTML code, you can then do the following:\n",
    "\n",
    "```html\n",
    "<head>\n",
    "  <link rel=\"stylesheet\" href=\"main.css\">\n",
    "</head>\n",
    "```\n",
    "\t\n",
    "Attach inline styles - You can also directly attach the styles in-line along with the main HTML code in the body. This makes it easy to customize specific elements but makes the code very messy, because the design and content get mixed up.\n",
    "\n",
    "```html\n",
    "<p style=\"color: green; font-size:36px; font-weight:bold;\">Inline styles can be handy sometimes.</p>\n",
    "```"
   ]
  },
  {
   "cell_type": "markdown",
   "metadata": {
    "id": "waBq0KT7V_4E"
   },
   "source": [
    "**Q5: Create a simple HTML page that displays the Voronoi diagram that you saved. Feel free to add more plots, explanations, and any styles. Make sure to check you can run the Python webserver and open the HTML file that you created.**\n",
    "\n",
    "Btw, you can also export Jupyter notebook into various formats. Click `File -> Export Notebook As` and play with it. "
   ]
  },
  {
   "cell_type": "markdown",
   "metadata": {
    "id": "C5xMCDKLV_4E"
   },
   "source": [
    "## Now submit your work\n",
    "\n",
    "Export your notebook to HTML (`lab02_notebook_lastname_firstname.html`). Then also rename your `HTML` (CSS) files from HTML/CSS exercise in the format of `lab02_lastname_firstname`. Upload these files to Canvas. "
   ]
  },
  {
   "cell_type": "code",
   "execution_count": null,
   "metadata": {
    "id": "lJvvZ1YIV_4E"
   },
   "outputs": [],
   "source": []
  }
 ],
 "metadata": {
  "anaconda-cloud": {},
  "colab": {
   "collapsed_sections": [
    "C5xMCDKLV_4E"
   ],
   "provenance": []
  },
  "kernel_info": {
   "name": "dviz"
  },
  "kernelspec": {
   "display_name": "Python 3 (ipykernel)",
   "language": "python",
   "name": "python3"
  },
  "language_info": {
   "codemirror_mode": {
    "name": "ipython",
    "version": 3
   },
   "file_extension": ".py",
   "mimetype": "text/x-python",
   "name": "python",
   "nbconvert_exporter": "python",
   "pygments_lexer": "ipython3",
   "version": "3.9.7"
  },
  "nteract": {
   "version": "0.23.1"
  }
 },
 "nbformat": 4,
 "nbformat_minor": 1
}
