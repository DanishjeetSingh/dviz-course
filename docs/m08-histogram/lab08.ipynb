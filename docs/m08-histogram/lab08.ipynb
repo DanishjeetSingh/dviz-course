{
 "cells": [
  {
   "cell_type": "markdown",
   "metadata": {
    "id": "A6iFUUQLNDlE"
   },
   "source": [
    "<table class=\"m01-notebook-buttons\" align=\"left\">\n",
    "  <td>\n",
    "    <a target=\"_blank\" href=\"https://colab.research.google.com/github/yy/dviz-course/blob/master/docs/m08-histogram/lab08.ipynb\"><img src=\"https://www.tensorflow.org/images/colab_logo_32px.png\" />Run in Google Colab</a>\n",
    "  </td>\n",
    "  <td>\n",
    "    <a href=\"https://yyahn.com/dviz-course/m08-histogram/lab08/\"><img src=\"https://www.tensorflow.org/images/GitHub-Mark-32px.png\" />View on Github</a>\n",
    "  </td>\n",
    "  <td>\n",
    "    <a href=\"https://raw.githubusercontent.com/yy/dviz-course/master/docs/m08-histogram/lab08.ipynb\"><img src=\"https://www.tensorflow.org/images/GitHub-Mark-32px.png\" />View raw on Github</a>\n",
    "  </td>\n",
    "</table>"
   ]
  },
  {
   "cell_type": "markdown",
   "metadata": {
    "id": "rHEGnwRZTG6O"
   },
   "source": [
    "# Module 8: Histogram and CDF\n",
    "\n",
    "A deep dive into Histogram and boxplot."
   ]
  },
  {
   "cell_type": "code",
   "execution_count": 1,
   "metadata": {
    "execution": {
     "iopub.execute_input": "2020-06-14T19:55:00.229Z",
     "iopub.status.busy": "2020-06-14T19:55:00.202Z",
     "iopub.status.idle": "2020-06-14T19:55:00.311Z",
     "shell.execute_reply": "2020-06-14T19:55:00.333Z"
    },
    "executionInfo": {
     "elapsed": 184,
     "status": "ok",
     "timestamp": 1687818245973,
     "user": {
      "displayName": "Vincent Wong",
      "userId": "06927694896148305320"
     },
     "user_tz": 240
    },
    "id": "S4vGQ3FkTG6R"
   },
   "outputs": [],
   "source": [
    "import matplotlib.pyplot as plt\n",
    "import numpy as np\n",
    "import seaborn as sns\n",
    "import altair as alt\n",
    "import pandas as pd\n",
    "%matplotlib inline"
   ]
  },
  {
   "cell_type": "code",
   "execution_count": 2,
   "metadata": {
    "colab": {
     "base_uri": "https://localhost:8080/",
     "height": 36
    },
    "execution": {
     "iopub.execute_input": "2020-06-14T19:55:02.381Z",
     "iopub.status.busy": "2020-06-14T19:55:02.358Z",
     "iopub.status.idle": "2020-06-14T19:55:02.421Z",
     "shell.execute_reply": "2020-06-14T19:55:02.439Z"
    },
    "executionInfo": {
     "elapsed": 17,
     "status": "ok",
     "timestamp": 1687818246607,
     "user": {
      "displayName": "Vincent Wong",
      "userId": "06927694896148305320"
     },
     "user_tz": 240
    },
    "id": "t9T3g_o4TG6S",
    "jupyter": {
     "outputs_hidden": false
    },
    "outputId": "58ceef07-26d1-4c14-b16a-1290c4aed4dd"
   },
   "outputs": [
    {
     "data": {
      "text/plain": [
       "'3.5.1'"
      ]
     },
     "execution_count": 2,
     "metadata": {},
     "output_type": "execute_result"
    }
   ],
   "source": [
    "import matplotlib\n",
    "matplotlib.__version__"
   ]
  },
  {
   "cell_type": "markdown",
   "metadata": {
    "id": "N6blkVDDTG6T"
   },
   "source": [
    "## The tricky histogram with pre-counted data"
   ]
  },
  {
   "cell_type": "markdown",
   "metadata": {
    "id": "95_k7X_-TG6T"
   },
   "source": [
    "Let's revisit the table from the class\n",
    "\n",
    "| Hours | Frequency |\n",
    "|-------|-----------|\n",
    "| 0-1   | 4,300     |\n",
    "| 1-3   | 6,900     |\n",
    "| 3-5   | 4,900     |\n",
    "| 5-10  | 2,000     |\n",
    "| 10-24 | 2,100     |"
   ]
  },
  {
   "cell_type": "markdown",
   "metadata": {
    "id": "CeO69PpmTG6U"
   },
   "source": [
    "You can draw a histogram by just providing bins and counts instead of a list of numbers. So, let's try that."
   ]
  },
  {
   "cell_type": "code",
   "execution_count": 4,
   "metadata": {
    "execution": {
     "iopub.execute_input": "2020-06-14T19:55:09.164Z",
     "iopub.status.busy": "2020-06-14T19:55:09.141Z",
     "iopub.status.idle": "2020-06-14T19:55:09.196Z",
     "shell.execute_reply": "2020-06-14T19:55:09.215Z"
    },
    "executionInfo": {
     "elapsed": 154,
     "status": "ok",
     "timestamp": 1687818249521,
     "user": {
      "displayName": "Vincent Wong",
      "userId": "06927694896148305320"
     },
     "user_tz": 240
    },
    "id": "FZPPq6inTG6U"
   },
   "outputs": [],
   "source": [
    "bins = [0, 1, 3, 5, 10, 24]\n",
    "data = {0.5: 4300, 2: 6900, 4: 4900, 7: 2000, 15: 2100}"
   ]
  },
  {
   "cell_type": "code",
   "execution_count": 5,
   "metadata": {
    "colab": {
     "base_uri": "https://localhost:8080/"
    },
    "execution": {
     "iopub.execute_input": "2020-06-14T19:55:11.108Z",
     "iopub.status.busy": "2020-06-14T19:55:11.089Z",
     "iopub.status.idle": "2020-06-14T19:55:11.146Z",
     "shell.execute_reply": "2020-06-14T19:55:11.165Z"
    },
    "executionInfo": {
     "elapsed": 5,
     "status": "ok",
     "timestamp": 1687818250050,
     "user": {
      "displayName": "Vincent Wong",
      "userId": "06927694896148305320"
     },
     "user_tz": 240
    },
    "id": "0kJUBT1hTG6U",
    "jupyter": {
     "outputs_hidden": false
    },
    "outputId": "cf1ab5f7-e38b-4ddd-d37c-c993c7108c6a"
   },
   "outputs": [
    {
     "data": {
      "text/plain": [
       "dict_keys([0.5, 2, 4, 7, 15])"
      ]
     },
     "execution_count": 5,
     "metadata": {},
     "output_type": "execute_result"
    }
   ],
   "source": [
    "data.keys()"
   ]
  },
  {
   "cell_type": "markdown",
   "metadata": {
    "id": "dLAjvNswTG6V"
   },
   "source": [
    "**Q: Draw histogram using this data.** Useful query: [Google search: matplotlib histogram pre-counted](https://www.google.com/search?client=safari&rls=en&q=matplotlib+histogram+already+counted&ie=UTF-8&oe=UTF-8#q=matplotlib+histogram+pre-counted)"
   ]
  },
  {
   "cell_type": "code",
   "execution_count": 10,
   "metadata": {},
   "outputs": [
    {
     "data": {
      "text/plain": [
       "(array([4300., 6900., 4900.,    0., 2000.,    0.,    0.,    0.,    0.,\n",
       "        2100.]),\n",
       " array([ 0.5 ,  1.95,  3.4 ,  4.85,  6.3 ,  7.75,  9.2 , 10.65, 12.1 ,\n",
       "        13.55, 15.  ]),\n",
       " <BarContainer object of 10 artists>)"
      ]
     },
     "execution_count": 10,
     "metadata": {},
     "output_type": "execute_result"
    },
    {
     "data": {
      "image/png": "[encoded data removed]",
      "text/plain": [
       "<Figure size 432x288 with 1 Axes>"
      ]
     },
     "metadata": {
      "needs_background": "light"
     },
     "output_type": "display_data"
    }
   ],
   "source": [
    "val, weight = zip(*[(k, v) for k,v in data.items()])\n",
    "plt.hist(data, weights=weight)"
   ]
  },
  {
   "cell_type": "markdown",
   "metadata": {
    "id": "jdeSwaifTG6W"
   },
   "source": [
    "As you can see, the **default histogram does not normalize with binwidth and simply shows the counts**! This can be very misleading if you are working with variable bin width (e.g. logarithmic bins). So please be mindful about histograms when you work with variable bins.\n",
    "\n",
    "**Q: You can fix this by using the `density` option.**"
   ]
  },
  {
   "cell_type": "code",
   "execution_count": 11,
   "metadata": {},
   "outputs": [
    {
     "data": {
      "text/plain": [
       "(array([0.14680778, 0.23557528, 0.16729259, 0.        , 0.06828269,\n",
       "        0.        , 0.        , 0.        , 0.        , 0.07169682]),\n",
       " array([ 0.5 ,  1.95,  3.4 ,  4.85,  6.3 ,  7.75,  9.2 , 10.65, 12.1 ,\n",
       "        13.55, 15.  ]),\n",
       " <BarContainer object of 10 artists>)"
      ]
     },
     "execution_count": 11,
     "metadata": {},
     "output_type": "execute_result"
    },
    {
     "data": {
      "image/png": "[encoded data removed]",
      "text/plain": [
       "<Figure size 432x288 with 1 Axes>"
      ]
     },
     "metadata": {
      "needs_background": "light"
     },
     "output_type": "display_data"
    }
   ],
   "source": [
    "plt.hist(data, weights=weight, density=True)"
   ]
  },
  {
   "cell_type": "markdown",
   "metadata": {
    "id": "4roBIweOTG6W"
   },
   "source": [
    "## Let's use an actual dataset"
   ]
  },
  {
   "cell_type": "code",
   "execution_count": 12,
   "metadata": {
    "execution": {
     "iopub.execute_input": "2020-06-14T19:56:24.048Z",
     "iopub.status.busy": "2020-06-14T19:56:24.027Z",
     "iopub.status.idle": "2020-06-14T19:56:24.081Z",
     "shell.execute_reply": "2020-06-14T19:56:24.100Z"
    },
    "executionInfo": {
     "elapsed": 151,
     "status": "ok",
     "timestamp": 1687818255570,
     "user": {
      "displayName": "Vincent Wong",
      "userId": "06927694896148305320"
     },
     "user_tz": 240
    },
    "id": "xPTrYs55TG6X"
   },
   "outputs": [],
   "source": [
    "import vega_datasets"
   ]
  },
  {
   "cell_type": "code",
   "execution_count": 13,
   "metadata": {
    "colab": {
     "base_uri": "https://localhost:8080/",
     "height": 285
    },
    "execution": {
     "iopub.execute_input": "2020-06-14T19:56:25.250Z",
     "iopub.status.busy": "2020-06-14T19:56:25.234Z",
     "iopub.status.idle": "2020-06-14T19:56:25.670Z",
     "shell.execute_reply": "2020-06-14T19:56:25.727Z"
    },
    "executionInfo": {
     "elapsed": 1381,
     "status": "ok",
     "timestamp": 1687818257413,
     "user": {
      "displayName": "Vincent Wong",
      "userId": "06927694896148305320"
     },
     "user_tz": 240
    },
    "id": "a244eCSOTG6X",
    "jupyter": {
     "outputs_hidden": false
    },
    "outputId": "57724aad-7da7-436c-f146-84e94932e933"
   },
   "outputs": [
    {
     "data": {
      "text/html": [
       "<div>\n",
       "<style scoped>\n",
       "    .dataframe tbody tr th:only-of-type {\n",
       "        vertical-align: middle;\n",
       "    }\n",
       "\n",
       "    .dataframe tbody tr th {\n",
       "        vertical-align: top;\n",
       "    }\n",
       "\n",
       "    .dataframe thead th {\n",
       "        text-align: right;\n",
       "    }\n",
       "</style>\n",
       "<table border=\"1\" class=\"dataframe\">\n",
       "  <thead>\n",
       "    <tr style=\"text-align: right;\">\n",
       "      <th></th>\n",
       "      <th>Title</th>\n",
       "      <th>US_Gross</th>\n",
       "      <th>Worldwide_Gross</th>\n",
       "      <th>US_DVD_Sales</th>\n",
       "      <th>Production_Budget</th>\n",
       "      <th>Release_Date</th>\n",
       "      <th>MPAA_Rating</th>\n",
       "      <th>Running_Time_min</th>\n",
       "      <th>Distributor</th>\n",
       "      <th>Source</th>\n",
       "      <th>Major_Genre</th>\n",
       "      <th>Creative_Type</th>\n",
       "      <th>Director</th>\n",
       "      <th>Rotten_Tomatoes_Rating</th>\n",
       "      <th>IMDB_Rating</th>\n",
       "      <th>IMDB_Votes</th>\n",
       "    </tr>\n",
       "  </thead>\n",
       "  <tbody>\n",
       "    <tr>\n",
       "      <th>0</th>\n",
       "      <td>The Land Girls</td>\n",
       "      <td>146083.0</td>\n",
       "      <td>146083.0</td>\n",
       "      <td>NaN</td>\n",
       "      <td>8000000.0</td>\n",
       "      <td>Jun 12 1998</td>\n",
       "      <td>R</td>\n",
       "      <td>NaN</td>\n",
       "      <td>Gramercy</td>\n",
       "      <td>None</td>\n",
       "      <td>None</td>\n",
       "      <td>None</td>\n",
       "      <td>None</td>\n",
       "      <td>NaN</td>\n",
       "      <td>6.1</td>\n",
       "      <td>1071.0</td>\n",
       "    </tr>\n",
       "    <tr>\n",
       "      <th>1</th>\n",
       "      <td>First Love, Last Rites</td>\n",
       "      <td>10876.0</td>\n",
       "      <td>10876.0</td>\n",
       "      <td>NaN</td>\n",
       "      <td>300000.0</td>\n",
       "      <td>Aug 07 1998</td>\n",
       "      <td>R</td>\n",
       "      <td>NaN</td>\n",
       "      <td>Strand</td>\n",
       "      <td>None</td>\n",
       "      <td>Drama</td>\n",
       "      <td>None</td>\n",
       "      <td>None</td>\n",
       "      <td>NaN</td>\n",
       "      <td>6.9</td>\n",
       "      <td>207.0</td>\n",
       "    </tr>\n",
       "    <tr>\n",
       "      <th>2</th>\n",
       "      <td>I Married a Strange Person</td>\n",
       "      <td>203134.0</td>\n",
       "      <td>203134.0</td>\n",
       "      <td>NaN</td>\n",
       "      <td>250000.0</td>\n",
       "      <td>Aug 28 1998</td>\n",
       "      <td>None</td>\n",
       "      <td>NaN</td>\n",
       "      <td>Lionsgate</td>\n",
       "      <td>None</td>\n",
       "      <td>Comedy</td>\n",
       "      <td>None</td>\n",
       "      <td>None</td>\n",
       "      <td>NaN</td>\n",
       "      <td>6.8</td>\n",
       "      <td>865.0</td>\n",
       "    </tr>\n",
       "    <tr>\n",
       "      <th>3</th>\n",
       "      <td>Let's Talk About Sex</td>\n",
       "      <td>373615.0</td>\n",
       "      <td>373615.0</td>\n",
       "      <td>NaN</td>\n",
       "      <td>300000.0</td>\n",
       "      <td>Sep 11 1998</td>\n",
       "      <td>None</td>\n",
       "      <td>NaN</td>\n",
       "      <td>Fine Line</td>\n",
       "      <td>None</td>\n",
       "      <td>Comedy</td>\n",
       "      <td>None</td>\n",
       "      <td>None</td>\n",
       "      <td>13.0</td>\n",
       "      <td>NaN</td>\n",
       "      <td>NaN</td>\n",
       "    </tr>\n",
       "    <tr>\n",
       "      <th>4</th>\n",
       "      <td>Slam</td>\n",
       "      <td>1009819.0</td>\n",
       "      <td>1087521.0</td>\n",
       "      <td>NaN</td>\n",
       "      <td>1000000.0</td>\n",
       "      <td>Oct 09 1998</td>\n",
       "      <td>R</td>\n",
       "      <td>NaN</td>\n",
       "      <td>Trimark</td>\n",
       "      <td>Original Screenplay</td>\n",
       "      <td>Drama</td>\n",
       "      <td>Contemporary Fiction</td>\n",
       "      <td>None</td>\n",
       "      <td>62.0</td>\n",
       "      <td>3.4</td>\n",
       "      <td>165.0</td>\n",
       "    </tr>\n",
       "  </tbody>\n",
       "</table>\n",
       "</div>"
      ],
      "text/plain": [
       "                        Title   US_Gross  Worldwide_Gross  US_DVD_Sales  \\\n",
       "0              The Land Girls   146083.0         146083.0           NaN   \n",
       "1      First Love, Last Rites    10876.0          10876.0           NaN   \n",
       "2  I Married a Strange Person   203134.0         203134.0           NaN   \n",
       "3        Let's Talk About Sex   373615.0         373615.0           NaN   \n",
       "4                        Slam  1009819.0        1087521.0           NaN   \n",
       "\n",
       "   Production_Budget Release_Date MPAA_Rating  Running_Time_min Distributor  \\\n",
       "0          8000000.0  Jun 12 1998           R               NaN    Gramercy   \n",
       "1           300000.0  Aug 07 1998           R               NaN      Strand   \n",
       "2           250000.0  Aug 28 1998        None               NaN   Lionsgate   \n",
       "3           300000.0  Sep 11 1998        None               NaN   Fine Line   \n",
       "4          1000000.0  Oct 09 1998           R               NaN     Trimark   \n",
       "\n",
       "                Source Major_Genre         Creative_Type Director  \\\n",
       "0                 None        None                  None     None   \n",
       "1                 None       Drama                  None     None   \n",
       "2                 None      Comedy                  None     None   \n",
       "3                 None      Comedy                  None     None   \n",
       "4  Original Screenplay       Drama  Contemporary Fiction     None   \n",
       "\n",
       "   Rotten_Tomatoes_Rating  IMDB_Rating  IMDB_Votes  \n",
       "0                     NaN          6.1      1071.0  \n",
       "1                     NaN          6.9       207.0  \n",
       "2                     NaN          6.8       865.0  \n",
       "3                    13.0          NaN         NaN  \n",
       "4                    62.0          3.4       165.0  "
      ]
     },
     "execution_count": 13,
     "metadata": {},
     "output_type": "execute_result"
    }
   ],
   "source": [
    "movies = vega_datasets.data.movies()\n",
    "movies.head()"
   ]
  },
  {
   "cell_type": "markdown",
   "metadata": {
    "id": "EuyhowKmTG6X"
   },
   "source": [
    "Let's plot the histogram of IMDB ratings."
   ]
  },
  {
   "cell_type": "code",
   "execution_count": 14,
   "metadata": {
    "colab": {
     "base_uri": "https://localhost:8080/",
     "height": 484
    },
    "execution": {
     "iopub.execute_input": "2020-06-14T19:56:30.176Z",
     "iopub.status.busy": "2020-06-14T19:56:30.152Z",
     "iopub.status.idle": "2020-06-14T19:56:30.285Z",
     "shell.execute_reply": "2020-06-14T19:56:30.306Z"
    },
    "executionInfo": {
     "elapsed": 393,
     "status": "ok",
     "timestamp": 1687818258217,
     "user": {
      "displayName": "Vincent Wong",
      "userId": "06927694896148305320"
     },
     "user_tz": 240
    },
    "id": "lCzR16y5TG6X",
    "jupyter": {
     "outputs_hidden": false
    },
    "outputId": "35899e50-84a1-4384-baf8-0c7a177b225f"
   },
   "outputs": [
    {
     "data": {
      "text/plain": [
       "(array([  9.,  39.,  76., 133., 293., 599., 784., 684., 323.,  48.]),\n",
       " array([1.4 , 2.18, 2.96, 3.74, 4.52, 5.3 , 6.08, 6.86, 7.64, 8.42, 9.2 ]),\n",
       " <BarContainer object of 10 artists>)"
      ]
     },
     "execution_count": 14,
     "metadata": {},
     "output_type": "execute_result"
    },
    {
     "data": {
      "image/png": "[encoded data removed]",
      "text/plain": [
       "<Figure size 432x288 with 1 Axes>"
      ]
     },
     "metadata": {
      "needs_background": "light"
     },
     "output_type": "display_data"
    }
   ],
   "source": [
    "plt.hist(movies.IMDB_Rating)"
   ]
  },
  {
   "cell_type": "markdown",
   "metadata": {
    "id": "az_zAN5wTG6Y"
   },
   "source": [
    "Did you get an error or a warning? What's going on?\n",
    "\n",
    "The problem is that the column contains `NaN` (Not a Number) values, which represent missing data points. The following command check whether each value is a `NaN` and returns the result."
   ]
  },
  {
   "cell_type": "code",
   "execution_count": 15,
   "metadata": {
    "colab": {
     "base_uri": "https://localhost:8080/"
    },
    "execution": {
     "iopub.execute_input": "2020-06-14T19:56:48.429Z",
     "iopub.status.busy": "2020-06-14T19:56:48.411Z",
     "iopub.status.idle": "2020-06-14T19:56:48.468Z",
     "shell.execute_reply": "2020-06-14T19:56:48.486Z"
    },
    "executionInfo": {
     "elapsed": 6,
     "status": "ok",
     "timestamp": 1687818258701,
     "user": {
      "displayName": "Vincent Wong",
      "userId": "06927694896148305320"
     },
     "user_tz": 240
    },
    "id": "x3jwldMSTG6Y",
    "jupyter": {
     "outputs_hidden": false
    },
    "outputId": "bca94b9a-d041-435a-fa39-dcff6d0cef18"
   },
   "outputs": [
    {
     "data": {
      "text/plain": [
       "0       False\n",
       "1       False\n",
       "2       False\n",
       "3        True\n",
       "4       False\n",
       "        ...  \n",
       "3196    False\n",
       "3197     True\n",
       "3198    False\n",
       "3199    False\n",
       "3200    False\n",
       "Name: IMDB_Rating, Length: 3201, dtype: bool"
      ]
     },
     "execution_count": 15,
     "metadata": {},
     "output_type": "execute_result"
    }
   ],
   "source": [
    "movies.IMDB_Rating.isna()"
   ]
  },
  {
   "cell_type": "markdown",
   "metadata": {
    "id": "OxBEfsovTG6Y"
   },
   "source": [
    "As you can see there are a bunch of missing rows. You can count them."
   ]
  },
  {
   "cell_type": "code",
   "execution_count": 16,
   "metadata": {
    "colab": {
     "base_uri": "https://localhost:8080/"
    },
    "execution": {
     "iopub.execute_input": "2020-06-14T19:56:51.688Z",
     "iopub.status.busy": "2020-06-14T19:56:51.671Z",
     "iopub.status.idle": "2020-06-14T19:56:51.722Z",
     "shell.execute_reply": "2020-06-14T19:56:51.739Z"
    },
    "executionInfo": {
     "elapsed": 148,
     "status": "ok",
     "timestamp": 1687818259537,
     "user": {
      "displayName": "Vincent Wong",
      "userId": "06927694896148305320"
     },
     "user_tz": 240
    },
    "id": "3FfJ3a34TG6Y",
    "jupyter": {
     "outputs_hidden": false
    },
    "outputId": "1b2524c6-6262-4cc2-b5c6-d16dafeb7c32"
   },
   "outputs": [
    {
     "data": {
      "text/plain": [
       "213"
      ]
     },
     "execution_count": 16,
     "metadata": {},
     "output_type": "execute_result"
    }
   ],
   "source": [
    "sum(movies.IMDB_Rating.isna())"
   ]
  },
  {
   "cell_type": "markdown",
   "metadata": {
    "id": "i1BRz3o5TG6Z"
   },
   "source": [
    "or drop them."
   ]
  },
  {
   "cell_type": "code",
   "execution_count": 17,
   "metadata": {
    "colab": {
     "base_uri": "https://localhost:8080/"
    },
    "execution": {
     "iopub.execute_input": "2020-06-14T19:56:52.894Z",
     "iopub.status.busy": "2020-06-14T19:56:52.876Z",
     "iopub.status.idle": "2020-06-14T19:56:52.932Z",
     "shell.execute_reply": "2020-06-14T19:56:52.950Z"
    },
    "executionInfo": {
     "elapsed": 173,
     "status": "ok",
     "timestamp": 1687818261726,
     "user": {
      "displayName": "Vincent Wong",
      "userId": "06927694896148305320"
     },
     "user_tz": 240
    },
    "id": "vwa6CfbsTG6Z",
    "jupyter": {
     "outputs_hidden": false
    },
    "outputId": "f32f7a7b-52f0-496f-95be-427c1968999c"
   },
   "outputs": [
    {
     "data": {
      "text/plain": [
       "2988"
      ]
     },
     "execution_count": 17,
     "metadata": {},
     "output_type": "execute_result"
    }
   ],
   "source": [
    "IMDB_ratings_nan_dropped = movies.IMDB_Rating.dropna()\n",
    "len(IMDB_ratings_nan_dropped)"
   ]
  },
  {
   "cell_type": "code",
   "execution_count": 18,
   "metadata": {
    "colab": {
     "base_uri": "https://localhost:8080/"
    },
    "execution": {
     "iopub.execute_input": "2020-06-14T19:56:54.792Z",
     "iopub.status.busy": "2020-06-14T19:56:54.775Z",
     "iopub.status.idle": "2020-06-14T19:56:54.826Z",
     "shell.execute_reply": "2020-06-14T19:56:54.843Z"
    },
    "executionInfo": {
     "elapsed": 156,
     "status": "ok",
     "timestamp": 1687818262363,
     "user": {
      "displayName": "Vincent Wong",
      "userId": "06927694896148305320"
     },
     "user_tz": 240
    },
    "id": "vVZ3sm-ITG6Z",
    "jupyter": {
     "outputs_hidden": false
    },
    "outputId": "2ad2aa9f-5d76-4e3e-ae66-cab435e19eb0"
   },
   "outputs": [
    {
     "data": {
      "text/plain": [
       "3201"
      ]
     },
     "execution_count": 18,
     "metadata": {},
     "output_type": "execute_result"
    }
   ],
   "source": [
    "213 + 2988"
   ]
  },
  {
   "cell_type": "markdown",
   "metadata": {
    "id": "v_MDtrt_TG6Z"
   },
   "source": [
    "The `dropna` can be applied to the dataframe too.\n",
    "\n",
    "**Q: drop rows from `movies` dataframe where either `IMDB_Rating` or `IMDB_Votes` is `NaN`.**"
   ]
  },
  {
   "cell_type": "code",
   "execution_count": 19,
   "metadata": {
    "execution": {
     "iopub.execute_input": "2020-06-14T19:56:55.835Z",
     "iopub.status.busy": "2020-06-14T19:56:55.817Z",
     "iopub.status.idle": "2020-06-14T19:56:55.861Z",
     "shell.execute_reply": "2020-06-14T19:56:55.878Z"
    },
    "executionInfo": {
     "elapsed": 150,
     "status": "ok",
     "timestamp": 1687818264693,
     "user": {
      "displayName": "Vincent Wong",
      "userId": "06927694896148305320"
     },
     "user_tz": 240
    },
    "id": "eUxZKFWkTG6Z"
   },
   "outputs": [],
   "source": [
    "movies.dropna(subset=['IMDB_Rating', 'IMDB_Votes'], inplace=True)"
   ]
  },
  {
   "cell_type": "code",
   "execution_count": 20,
   "metadata": {
    "colab": {
     "base_uri": "https://localhost:8080/"
    },
    "execution": {
     "iopub.execute_input": "2020-06-14T19:56:56.768Z",
     "iopub.status.busy": "2020-06-14T19:56:56.751Z",
     "iopub.status.idle": "2020-06-14T19:56:56.803Z",
     "shell.execute_reply": "2020-06-14T19:56:56.819Z"
    },
    "executionInfo": {
     "elapsed": 145,
     "status": "ok",
     "timestamp": 1687818265230,
     "user": {
      "displayName": "Vincent Wong",
      "userId": "06927694896148305320"
     },
     "user_tz": 240
    },
    "id": "c6jSjbxhTG6a",
    "jupyter": {
     "outputs_hidden": false
    },
    "outputId": "69d58a1c-61d4-4721-c1bd-3e9b568d9acf"
   },
   "outputs": [
    {
     "name": "stdout",
     "output_type": "stream",
     "text": [
      "0 0\n"
     ]
    }
   ],
   "source": [
    "# Both should be zero.\n",
    "print(sum(movies.IMDB_Rating.isna()), sum(movies.IMDB_Votes.isna()))"
   ]
  },
  {
   "cell_type": "markdown",
   "metadata": {
    "id": "4ZeoyhBJTG6a"
   },
   "source": [
    "How does `matplotlib` decides the bins? Actually `matplotlib`'s `hist` function uses `numpy`'s `histogram` function under the hood."
   ]
  },
  {
   "cell_type": "markdown",
   "metadata": {
    "id": "fOlXNjFyTG6a"
   },
   "source": [
    "**Q: Plot the histogram of movie ratings (`IMDB_Rating`) using the `plt.hist()` function.**"
   ]
  },
  {
   "cell_type": "code",
   "execution_count": 25,
   "metadata": {},
   "outputs": [
    {
     "data": {
      "image/png": "[encoded data removed]",
      "text/plain": [
       "<Figure size 432x288 with 1 Axes>"
      ]
     },
     "metadata": {
      "needs_background": "light"
     },
     "output_type": "display_data"
    }
   ],
   "source": [
    "# ratings = movies['IMDB_Rating']\n",
    "\n",
    "plt.hist(movies.IMDB_Rating, bins=10)\n",
    "\n",
    "plt.xlabel('IMDB Rating')\n",
    "plt.ylabel('Frequency')\n",
    "plt.title('Histogram of Movie Ratings')\n",
    "\n",
    "plt.show()"
   ]
  },
  {
   "cell_type": "markdown",
   "metadata": {
    "id": "3BelR31kTG6a"
   },
   "source": [
    "Have you noticed that this function returns three objects? Take a look at the documentation [here](http://matplotlib.org/api/pyplot_api.html#matplotlib.pyplot.hist) to figure out what they are.\n",
    "\n",
    "To get the returned three objects:"
   ]
  },
  {
   "cell_type": "code",
   "execution_count": 26,
   "metadata": {
    "colab": {
     "base_uri": "https://localhost:8080/",
     "height": 466
    },
    "execution": {
     "iopub.execute_input": "2020-06-14T19:57:04.322Z",
     "iopub.status.busy": "2020-06-14T19:57:04.229Z",
     "iopub.status.idle": "2020-06-14T19:57:05.023Z",
     "shell.execute_reply": "2020-06-14T19:57:05.046Z"
    },
    "executionInfo": {
     "elapsed": 1035,
     "status": "ok",
     "timestamp": 1687818276961,
     "user": {
      "displayName": "Vincent Wong",
      "userId": "06927694896148305320"
     },
     "user_tz": 240
    },
    "id": "qrmt7ma_TG6a",
    "jupyter": {
     "outputs_hidden": false
    },
    "outputId": "139797bc-c5b3-4b84-9f47-523354786db2"
   },
   "outputs": [
    {
     "name": "stdout",
     "output_type": "stream",
     "text": [
      "[  9.  39.  76. 133. 293. 599. 784. 684. 323.  48.]\n",
      "[1.4  2.18 2.96 3.74 4.52 5.3  6.08 6.86 7.64 8.42 9.2 ]\n"
     ]
    },
    {
     "data": {
      "image/png": "[encoded data removed]",
      "text/plain": [
       "<Figure size 432x288 with 1 Axes>"
      ]
     },
     "metadata": {
      "needs_background": "light"
     },
     "output_type": "display_data"
    }
   ],
   "source": [
    "n_raw, bins_raw, patches = plt.hist(movies.IMDB_Rating)\n",
    "print(n_raw)\n",
    "print(bins_raw)"
   ]
  },
  {
   "cell_type": "markdown",
   "metadata": {
    "id": "1SUgGDBwTG6b"
   },
   "source": [
    "Here, `n_raw` contains the values of histograms, i.e., the number of movies in each of the 10 bins. Thus, the sum of the elements in `n_raw` should be equal to the total number of movies.\n",
    "\n",
    "**Q: Test whether the sum of values in `n_raw` is equal to the number of movies in the `movies` dataset**"
   ]
  },
  {
   "cell_type": "code",
   "execution_count": 29,
   "metadata": {},
   "outputs": [
    {
     "name": "stdout",
     "output_type": "stream",
     "text": [
      "2988.0\n",
      "2988\n"
     ]
    }
   ],
   "source": [
    "sum_of_values = sum(n_raw)\n",
    "print(sum_of_values)\n",
    "num_movies = len(movies)\n",
    "print(num_movies)"
   ]
  },
  {
   "cell_type": "markdown",
   "metadata": {
    "id": "c9gIcp06TG6b"
   },
   "source": [
    "The second returned object (`bins_raw`) is a list containing the edges of the 10 bins: the first bin is \\[1.4, 2.18\\], the second \\[2.18, 2.96\\], and so on. What's the width of the bins?"
   ]
  },
  {
   "cell_type": "code",
   "execution_count": 30,
   "metadata": {
    "colab": {
     "base_uri": "https://localhost:8080/"
    },
    "execution": {
     "iopub.execute_input": "2020-06-14T19:57:10.040Z",
     "iopub.status.busy": "2020-06-14T19:57:10.025Z",
     "iopub.status.idle": "2020-06-14T19:57:10.081Z",
     "shell.execute_reply": "2020-06-14T19:57:10.097Z"
    },
    "executionInfo": {
     "elapsed": 151,
     "status": "ok",
     "timestamp": 1687818311779,
     "user": {
      "displayName": "Vincent Wong",
      "userId": "06927694896148305320"
     },
     "user_tz": 240
    },
    "id": "im5eQCroTG6b",
    "jupyter": {
     "outputs_hidden": false
    },
    "outputId": "ca756ea4-bc06-404e-c650-0c2675d17369"
   },
   "outputs": [
    {
     "data": {
      "text/plain": [
       "array([0.78, 0.78, 0.78, 0.78, 0.78, 0.78, 0.78, 0.78, 0.78, 0.78])"
      ]
     },
     "execution_count": 30,
     "metadata": {},
     "output_type": "execute_result"
    }
   ],
   "source": [
    "np.diff(bins_raw)"
   ]
  },
  {
   "cell_type": "markdown",
   "metadata": {
    "id": "C3TsmP_RTG6b"
   },
   "source": [
    "The width is same as the maximum value minus minimum value, divided by 10."
   ]
  },
  {
   "cell_type": "code",
   "execution_count": 31,
   "metadata": {
    "colab": {
     "base_uri": "https://localhost:8080/"
    },
    "execution": {
     "iopub.execute_input": "2020-06-14T19:57:11.016Z",
     "iopub.status.busy": "2020-06-14T19:57:10.997Z",
     "iopub.status.idle": "2020-06-14T19:57:11.052Z",
     "shell.execute_reply": "2020-06-14T19:57:11.068Z"
    },
    "executionInfo": {
     "elapsed": 223,
     "status": "ok",
     "timestamp": 1687818312845,
     "user": {
      "displayName": "Vincent Wong",
      "userId": "06927694896148305320"
     },
     "user_tz": 240
    },
    "id": "GxrmxezwTG6b",
    "jupyter": {
     "outputs_hidden": false
    },
    "outputId": "e4ef2cd2-6171-4b28-d669-61ca6ed9d8b4"
   },
   "outputs": [
    {
     "name": "stdout",
     "output_type": "stream",
     "text": [
      "1.4 9.2\n",
      "0.7799999999999999\n"
     ]
    }
   ],
   "source": [
    "min_rating = min(movies.IMDB_Rating)\n",
    "max_rating = max(movies.IMDB_Rating)\n",
    "print(min_rating, max_rating)\n",
    "print( (max_rating-min_rating) / 10 )"
   ]
  },
  {
   "cell_type": "markdown",
   "metadata": {
    "id": "JGxvd4CGTG6c"
   },
   "source": [
    "Now, let's plot a normalized (density) histogram."
   ]
  },
  {
   "cell_type": "code",
   "execution_count": 32,
   "metadata": {
    "colab": {
     "base_uri": "https://localhost:8080/",
     "height": 486
    },
    "execution": {
     "iopub.execute_input": "2020-06-14T19:57:12.070Z",
     "iopub.status.busy": "2020-06-14T19:57:12.053Z",
     "iopub.status.idle": "2020-06-14T19:57:12.176Z",
     "shell.execute_reply": "2020-06-14T19:57:12.239Z"
    },
    "executionInfo": {
     "elapsed": 432,
     "status": "ok",
     "timestamp": 1687818319541,
     "user": {
      "displayName": "Vincent Wong",
      "userId": "06927694896148305320"
     },
     "user_tz": 240
    },
    "id": "OIrthY8ATG6c",
    "jupyter": {
     "outputs_hidden": false
    },
    "outputId": "92cb8ce3-30af-45ce-ac89-3a276607c7b2"
   },
   "outputs": [
    {
     "name": "stdout",
     "output_type": "stream",
     "text": [
      "[0.0038616  0.0167336  0.03260907 0.05706587 0.12571654 0.25701095\n",
      " 0.33638829 0.29348162 0.13858854 0.0205952 ]\n",
      "[1.4  2.18 2.96 3.74 4.52 5.3  6.08 6.86 7.64 8.42 9.2 ]\n"
     ]
    },
    {
     "data": {
      "image/png": "[encoded data removed]",
      "text/plain": [
       "<Figure size 432x288 with 1 Axes>"
      ]
     },
     "metadata": {
      "needs_background": "light"
     },
     "output_type": "display_data"
    }
   ],
   "source": [
    "n, bins, patches = plt.hist(movies.IMDB_Rating, density=True)\n",
    "print(n)\n",
    "print(bins)"
   ]
  },
  {
   "cell_type": "markdown",
   "metadata": {
    "id": "-qKKEOXMTG6c"
   },
   "source": [
    "The ten bins do not change. But now `n` represents the density of the data inside each bin. In other words, the sum of the area of each bar will equal to 1.\n",
    "\n",
    "**Q: Can you verify this?**\n",
    "\n",
    "Hint: the area of each bar is calculated as height * width. You may get something like 0.99999999999999978 instead of 1."
   ]
  },
  {
   "cell_type": "code",
   "execution_count": 48,
   "metadata": {},
   "outputs": [
    {
     "data": {
      "text/plain": [
       "1.0"
      ]
     },
     "execution_count": 48,
     "metadata": {},
     "output_type": "execute_result"
    }
   ],
   "source": [
    "bin_widths = np.diff(bins)\n",
    "total_area = np.sum(n * bin_widths)\n",
    "total_area"
   ]
  },
  {
   "cell_type": "markdown",
   "metadata": {
    "id": "ugwtR9guTG6c"
   },
   "source": [
    "Anyway, these data generated from the `hist` function is calculated from `numpy`'s `histogram` function. https://docs.scipy.org/doc/numpy/reference/generated/numpy.histogram.html\n",
    "\n",
    "Note that the result of `np.histogram()` is same as that of `plt.hist()`."
   ]
  },
  {
   "cell_type": "code",
   "execution_count": 49,
   "metadata": {
    "colab": {
     "base_uri": "https://localhost:8080/"
    },
    "execution": {
     "iopub.execute_input": "2020-06-14T19:57:14.303Z",
     "iopub.status.busy": "2020-06-14T19:57:14.287Z",
     "iopub.status.idle": "2020-06-14T19:57:14.334Z",
     "shell.execute_reply": "2020-06-14T19:57:14.349Z"
    },
    "executionInfo": {
     "elapsed": 201,
     "status": "ok",
     "timestamp": 1687818328266,
     "user": {
      "displayName": "Vincent Wong",
      "userId": "06927694896148305320"
     },
     "user_tz": 240
    },
    "id": "xn-WpuKiTG6c",
    "jupyter": {
     "outputs_hidden": false
    },
    "outputId": "05d56921-f033-4a88-dd19-eda81353c5ca"
   },
   "outputs": [
    {
     "data": {
      "text/plain": [
       "(array([  9,  39,  76, 133, 293, 599, 784, 684, 323,  48]),\n",
       " array([1.4 , 2.18, 2.96, 3.74, 4.52, 5.3 , 6.08, 6.86, 7.64, 8.42, 9.2 ]))"
      ]
     },
     "execution_count": 49,
     "metadata": {},
     "output_type": "execute_result"
    }
   ],
   "source": [
    "np.histogram(movies.IMDB_Rating)"
   ]
  },
  {
   "cell_type": "code",
   "execution_count": 50,
   "metadata": {
    "colab": {
     "base_uri": "https://localhost:8080/",
     "height": 484
    },
    "execution": {
     "iopub.execute_input": "2020-06-14T19:57:14.903Z",
     "iopub.status.busy": "2020-06-14T19:57:14.885Z",
     "iopub.status.idle": "2020-06-14T19:57:14.997Z",
     "shell.execute_reply": "2020-06-14T19:57:15.015Z"
    },
    "executionInfo": {
     "elapsed": 319,
     "status": "ok",
     "timestamp": 1687818328581,
     "user": {
      "displayName": "Vincent Wong",
      "userId": "06927694896148305320"
     },
     "user_tz": 240
    },
    "id": "a1DPjJI7TG6c",
    "jupyter": {
     "outputs_hidden": false
    },
    "outputId": "f7213626-edd6-4584-f7ef-96070d480917"
   },
   "outputs": [
    {
     "data": {
      "text/plain": [
       "(array([  9.,  39.,  76., 133., 293., 599., 784., 684., 323.,  48.]),\n",
       " array([1.4 , 2.18, 2.96, 3.74, 4.52, 5.3 , 6.08, 6.86, 7.64, 8.42, 9.2 ]),\n",
       " <BarContainer object of 10 artists>)"
      ]
     },
     "execution_count": 50,
     "metadata": {},
     "output_type": "execute_result"
    },
    {
     "data": {
      "image/png": "[encoded data removed]",
      "text/plain": [
       "<Figure size 432x288 with 1 Axes>"
      ]
     },
     "metadata": {
      "needs_background": "light"
     },
     "output_type": "display_data"
    }
   ],
   "source": [
    "plt.hist(movies.IMDB_Rating)"
   ]
  },
  {
   "cell_type": "markdown",
   "metadata": {
    "id": "o4ArxCNETG6d"
   },
   "source": [
    "If you look at the documentation, you can see that `numpy` uses simply 10 as the default number of bins. But you can set it manually or set it to be `auto`, which is the \"Maximum of the `sturges` and `fd` estimators.\". Let's try this `auto` option."
   ]
  },
  {
   "cell_type": "code",
   "execution_count": 51,
   "metadata": {
    "colab": {
     "base_uri": "https://localhost:8080/",
     "height": 430
    },
    "execution": {
     "iopub.execute_input": "2020-06-14T19:57:15.850Z",
     "iopub.status.busy": "2020-06-14T19:57:15.833Z",
     "iopub.status.idle": "2020-06-14T19:57:15.998Z",
     "shell.execute_reply": "2020-06-14T19:57:16.015Z"
    },
    "executionInfo": {
     "elapsed": 316,
     "status": "ok",
     "timestamp": 1687818329586,
     "user": {
      "displayName": "Vincent Wong",
      "userId": "06927694896148305320"
     },
     "user_tz": 240
    },
    "id": "g04dPJySTG6d",
    "jupyter": {
     "outputs_hidden": false
    },
    "outputId": "868eaedc-074b-45df-ea31-5d3a0648d9e2"
   },
   "outputs": [
    {
     "data": {
      "image/png": "[encoded data removed]",
      "text/plain": [
       "<Figure size 432x288 with 1 Axes>"
      ]
     },
     "metadata": {
      "needs_background": "light"
     },
     "output_type": "display_data"
    }
   ],
   "source": [
    "_ = plt.hist(movies.IMDB_Rating, bins='auto')"
   ]
  },
  {
   "cell_type": "markdown",
   "metadata": {
    "id": "TM_jST11TG6d"
   },
   "source": [
    "## Consequences of the binning parameter\n",
    "\n",
    "Let's explore the effect of bin size using small multiples. In `matplotlib`, you can use [subplot](https://www.google.com/search?client=safari&rls=en&q=matplotlib+subplot&ie=UTF-8&oe=UTF-8) to put multiple plots into a single figure.\n",
    "\n",
    "For instance, you can do something like:"
   ]
  },
  {
   "cell_type": "code",
   "execution_count": 52,
   "metadata": {
    "colab": {
     "base_uri": "https://localhost:8080/",
     "height": 463
    },
    "execution": {
     "iopub.execute_input": "2020-06-14T19:57:17.609Z",
     "iopub.status.busy": "2020-06-14T19:57:17.591Z",
     "iopub.status.idle": "2020-06-14T19:57:17.858Z",
     "shell.execute_reply": "2020-06-14T19:57:17.878Z"
    },
    "executionInfo": {
     "elapsed": 1004,
     "status": "ok",
     "timestamp": 1687818421168,
     "user": {
      "displayName": "Vincent Wong",
      "userId": "06927694896148305320"
     },
     "user_tz": 240
    },
    "id": "4lliCeD6TG6d",
    "jupyter": {
     "outputs_hidden": false
    },
    "outputId": "88567283-2f7e-470d-bccd-e19734730225"
   },
   "outputs": [
    {
     "data": {
      "text/plain": [
       "<AxesSubplot:>"
      ]
     },
     "execution_count": 52,
     "metadata": {},
     "output_type": "execute_result"
    },
    {
     "data": {
      "image/png": "[encoded data removed]",
      "text/plain": [
       "<Figure size 720x360 with 2 Axes>"
      ]
     },
     "metadata": {
      "needs_background": "light"
     },
     "output_type": "display_data"
    }
   ],
   "source": [
    "plt.figure(figsize=(10,5))\n",
    "plt.subplot(1,2,1)\n",
    "movies.IMDB_Rating.hist(bins=3)\n",
    "plt.subplot(1,2,2)\n",
    "movies.IMDB_Rating.hist(bins=20)"
   ]
  },
  {
   "cell_type": "markdown",
   "metadata": {
    "id": "XXIbKfeWTG6d"
   },
   "source": [
    "What does the argument in `plt.subplot(1,2,1)` mean? If you're not sure, check out: http://stackoverflow.com/questions/3584805/in-matplotlib-what-does-the-argument-mean-in-fig-add-subplot111\n",
    "\n",
    "**Q: create 8 subplots (2 rows and 4 columns) with the following `binsizes`.**"
   ]
  },
  {
   "cell_type": "code",
   "execution_count": 36,
   "metadata": {},
   "outputs": [
    {
     "data": {
      "image/png": "[encoded data removed]",
      "text/plain": [
       "<Figure size 1296x720 with 8 Axes>"
      ]
     },
     "metadata": {
      "needs_background": "light"
     },
     "output_type": "display_data"
    }
   ],
   "source": [
    "nbins = [2, 3, 5, 10, 30, 40, 60, 100 ]\n",
    "figsize = (18, 10)\n",
    "\n",
    "fig, axs = plt.subplots(2, 4, figsize=(18, 10))\n",
    "fig.suptitle('Histograms with Different Bin Sizes')\n",
    "\n",
    "axs = axs.flatten()\n",
    "\n",
    "for i, bin_size in enumerate(nbins):\n",
    "    row = i // 4\n",
    "    col = i % 4\n",
    "    \n",
    "    axs[i].hist(movies['IMDB_Rating'], bins=bin_size)\n",
    "    \n",
    "    axs[i].set_xlabel('IMDB Rating')\n",
    "    axs[i].set_ylabel('Frequency')\n",
    "    axs[i].set_title(f'Bin Size = {bin_size}')\n",
    "\n",
    "plt.tight_layout(rect=[0, 0.03, 1, 0.95])\n",
    "\n",
    "plt.show()"
   ]
  },
  {
   "cell_type": "code",
   "execution_count": 79,
   "metadata": {
    "colab": {
     "base_uri": "https://localhost:8080/",
     "height": 872
    },
    "execution": {
     "iopub.execute_input": "2020-06-14T19:57:19.049Z",
     "iopub.status.busy": "2020-06-14T19:57:19.029Z",
     "iopub.status.idle": "2020-06-14T19:57:20.201Z",
     "shell.execute_reply": "2020-06-14T19:57:20.255Z"
    },
    "executionInfo": {
     "elapsed": 2347,
     "status": "ok",
     "timestamp": 1687818423649,
     "user": {
      "displayName": "Vincent Wong",
      "userId": "06927694896148305320"
     },
     "user_tz": 240
    },
    "id": "jlYvPcu-TG6d",
    "jupyter": {
     "outputs_hidden": false
    },
    "outputId": "cb6e99e3-6332-420f-e3d1-c0bec8422308"
   },
   "outputs": [
    {
     "data": {
      "image/png": "[encoded data removed]",
      "text/plain": [
       "<Figure size 1800x1000 with 8 Axes>"
      ]
     },
     "metadata": {},
     "output_type": "display_data"
    }
   ],
   "source": [
    "nbins = [2, 3, 5, 10, 30, 40, 60, 100 ]\n",
    "figsize = (18, 10)\n",
    "\n",
    "# TODO\n",
    "\n",
    "# YOUR SOLUTION HERE"
   ]
  },
  {
   "cell_type": "markdown",
   "metadata": {
    "id": "EhkbFVmOTG6d"
   },
   "source": [
    "Do you see the issues with having too few bins or too many bins? In particular, do you notice weird patterns that emerge from `bins=30`?\n",
    "\n",
    "**Q: Can you guess why do you see such patterns? What are the peaks and what are the empty bars? What do they tell you about choosing the binsize in histograms?**"
   ]
  },
  {
   "cell_type": "code",
   "execution_count": 80,
   "metadata": {
    "colab": {
     "base_uri": "https://localhost:8080/",
     "height": 430
    },
    "execution": {
     "iopub.execute_input": "2020-06-14T19:57:21.486Z",
     "iopub.status.busy": "2020-06-14T19:57:21.468Z",
     "iopub.status.idle": "2020-06-14T19:57:21.640Z",
     "shell.execute_reply": "2020-06-14T19:57:21.689Z"
    },
    "executionInfo": {
     "elapsed": 637,
     "status": "ok",
     "timestamp": 1687818426810,
     "user": {
      "displayName": "Vincent Wong",
      "userId": "06927694896148305320"
     },
     "user_tz": 240
    },
    "id": "_RYXN95UTG6e",
    "jupyter": {
     "outputs_hidden": false
    },
    "outputId": "6079008d-ce20-459c-8381-b0ef63548fe4"
   },
   "outputs": [
    {
     "data": {
      "image/png": "[encoded data removed]",
      "text/plain": [
       "<Figure size 640x480 with 1 Axes>"
      ]
     },
     "metadata": {},
     "output_type": "display_data"
    }
   ],
   "source": [
    "# YOUR SOLUTION HERE"
   ]
  },
  {
   "cell_type": "code",
   "execution_count": 81,
   "metadata": {
    "colab": {
     "base_uri": "https://localhost:8080/"
    },
    "execution": {
     "iopub.execute_input": "2020-06-14T19:57:22.246Z",
     "iopub.status.busy": "2020-06-14T19:57:22.230Z",
     "iopub.status.idle": "2020-06-14T19:57:22.280Z",
     "shell.execute_reply": "2020-06-14T19:57:22.297Z"
    },
    "executionInfo": {
     "elapsed": 7,
     "status": "ok",
     "timestamp": 1687818426810,
     "user": {
      "displayName": "Vincent Wong",
      "userId": "06927694896148305320"
     },
     "user_tz": 240
    },
    "id": "okuF4FOzTG6e",
    "jupyter": {
     "outputs_hidden": false
    },
    "outputId": "fad130a5-cc9d-4832-d9f2-b52d8d95313b"
   },
   "outputs": [
    {
     "data": {
      "text/plain": [
       "40"
      ]
     },
     "execution_count": 81,
     "metadata": {},
     "output_type": "execute_result"
    }
   ],
   "source": [
    "# YOUR SOLUTION HERE"
   ]
  },
  {
   "cell_type": "code",
   "execution_count": 82,
   "metadata": {
    "colab": {
     "base_uri": "https://localhost:8080/"
    },
    "execution": {
     "iopub.execute_input": "2020-06-14T19:57:23.138Z",
     "iopub.status.busy": "2020-06-14T19:57:23.119Z",
     "iopub.status.idle": "2020-06-14T19:57:23.174Z",
     "shell.execute_reply": "2020-06-14T19:57:23.191Z"
    },
    "executionInfo": {
     "elapsed": 6,
     "status": "ok",
     "timestamp": 1687818426811,
     "user": {
      "displayName": "Vincent Wong",
      "userId": "06927694896148305320"
     },
     "user_tz": 240
    },
    "id": "RrYu5YIzTG6e",
    "jupyter": {
     "outputs_hidden": false
    },
    "outputId": "246ee9b9-ad6e-4eaa-bdcc-c4b76c47eceb"
   },
   "outputs": [
    {
     "data": {
      "text/plain": [
       "array([6.6 , 6.73, 6.86, 6.99, 7.12, 7.25, 7.38, 7.51, 7.64, 7.77])"
      ]
     },
     "execution_count": 82,
     "metadata": {},
     "output_type": "execute_result"
    }
   ],
   "source": [
    "# YOUR SOLUTION HERE"
   ]
  },
  {
   "cell_type": "code",
   "execution_count": 83,
   "metadata": {
    "colab": {
     "base_uri": "https://localhost:8080/"
    },
    "execution": {
     "iopub.execute_input": "2020-06-14T19:57:23.724Z",
     "iopub.status.busy": "2020-06-14T19:57:23.708Z",
     "iopub.status.idle": "2020-06-14T19:57:23.759Z",
     "shell.execute_reply": "2020-06-14T19:57:23.775Z"
    },
    "executionInfo": {
     "elapsed": 197,
     "status": "ok",
     "timestamp": 1687818427150,
     "user": {
      "displayName": "Vincent Wong",
      "userId": "06927694896148305320"
     },
     "user_tz": 240
    },
    "id": "C5UI263HTG6e",
    "jupyter": {
     "outputs_hidden": false
    },
    "outputId": "6a8ece06-d575-4f7d-e98e-e4f79bb89292"
   },
   "outputs": [
    {
     "data": {
      "text/plain": [
       "0.12999999999999998"
      ]
     },
     "execution_count": 83,
     "metadata": {},
     "output_type": "execute_result"
    }
   ],
   "source": [
    "# YOUR SOLUTION HERE"
   ]
  },
  {
   "cell_type": "markdown",
   "metadata": {
    "id": "YhF5JL3mTG6e"
   },
   "source": [
    "# YOUR SOLUTION HERE"
   ]
  },
  {
   "cell_type": "markdown",
   "metadata": {
    "id": "OVCQtwOLTG6e"
   },
   "source": [
    "## Formulae for choosing the number of bins.\n",
    "\n",
    "We can manually choose the number of bins based on those formulae."
   ]
  },
  {
   "cell_type": "code",
   "execution_count": 84,
   "metadata": {
    "colab": {
     "base_uri": "https://localhost:8080/",
     "height": 409
    },
    "execution": {
     "iopub.execute_input": "2020-06-14T19:57:26.087Z",
     "iopub.status.busy": "2020-06-14T19:57:26.071Z",
     "iopub.status.idle": "2020-06-14T19:57:26.506Z",
     "shell.execute_reply": "2020-06-14T19:57:26.556Z"
    },
    "executionInfo": {
     "elapsed": 1146,
     "status": "ok",
     "timestamp": 1687818431715,
     "user": {
      "displayName": "Vincent Wong",
      "userId": "06927694896148305320"
     },
     "user_tz": 240
    },
    "id": "My4M97X8TG6f",
    "outputId": "17eb04e4-63fd-4e9e-d880-138c1a92f87a"
   },
   "outputs": [
    {
     "data": {
      "text/plain": [
       "<Axes: title={'center': 'F-D, 35 bins'}>"
      ]
     },
     "execution_count": 84,
     "metadata": {},
     "output_type": "execute_result"
    },
    {
     "data": {
      "image/png": "[encoded data removed]",
      "text/plain": [
       "<Figure size 1200x400 with 3 Axes>"
      ]
     },
     "metadata": {},
     "output_type": "display_data"
    }
   ],
   "source": [
    "N = len(movies)\n",
    "\n",
    "plt.figure(figsize=(12,4))\n",
    "\n",
    "# Sqrt\n",
    "nbins = int(np.sqrt(N))\n",
    "\n",
    "plt.subplot(1,3,1)\n",
    "plt.title(\"SQRT, {} bins\".format(nbins))\n",
    "movies.IMDB_Rating.hist(bins=nbins)\n",
    "\n",
    "# Sturge's formula\n",
    "nbins = int(np.ceil(np.log2(N) + 1))\n",
    "\n",
    "plt.subplot(1,3,2)\n",
    "plt.title(\"Sturge, {} bins\".format(nbins))\n",
    "movies.IMDB_Rating.hist(bins=nbins)\n",
    "\n",
    "# Freedman-Diaconis\n",
    "iqr = np.percentile(movies.IMDB_Rating, 75) - np.percentile(movies.IMDB_Rating, 25)\n",
    "width = 2*iqr/np.power(N, 1/3)\n",
    "nbins = int((max(movies.IMDB_Rating) - min(movies.IMDB_Rating)) / width)\n",
    "\n",
    "plt.subplot(1,3,3)\n",
    "plt.title(\"F-D, {} bins\".format(nbins))\n",
    "movies.IMDB_Rating.hist(bins=nbins)\n",
    "\n"
   ]
  },
  {
   "cell_type": "markdown",
   "metadata": {
    "id": "8RKA0F83TG6f"
   },
   "source": [
    "But we can also use built-in formulae too. Let's try all of them."
   ]
  },
  {
   "cell_type": "code",
   "execution_count": 85,
   "metadata": {
    "colab": {
     "base_uri": "https://localhost:8080/",
     "height": 387
    },
    "execution": {
     "iopub.execute_input": "2020-06-14T19:57:27.570Z",
     "iopub.status.busy": "2020-06-14T19:57:27.554Z",
     "iopub.status.idle": "2020-06-14T19:57:28.976Z",
     "shell.execute_reply": "2020-06-14T19:57:28.994Z"
    },
    "executionInfo": {
     "elapsed": 1582,
     "status": "ok",
     "timestamp": 1687818433290,
     "user": {
      "displayName": "Vincent Wong",
      "userId": "06927694896148305320"
     },
     "user_tz": 240
    },
    "id": "qoEJofYATG6f",
    "jupyter": {
     "outputs_hidden": false
    },
    "outputId": "2c4f4f9c-1a22-422f-9865-2cae93d50bfc"
   },
   "outputs": [
    {
     "data": {
      "text/plain": [
       "<Axes: >"
      ]
     },
     "execution_count": 85,
     "metadata": {},
     "output_type": "execute_result"
    },
    {
     "data": {
      "image/png": "[encoded data removed]",
      "text/plain": [
       "<Figure size 2000x400 with 6 Axes>"
      ]
     },
     "metadata": {},
     "output_type": "display_data"
    }
   ],
   "source": [
    "plt.figure(figsize=(20,4))\n",
    "\n",
    "plt.subplot(161)\n",
    "movies.IMDB_Rating.hist(bins='fd')\n",
    "\n",
    "plt.subplot(162)\n",
    "movies.IMDB_Rating.hist(bins='doane')\n",
    "\n",
    "plt.subplot(163)\n",
    "movies.IMDB_Rating.hist(bins='scott')\n",
    "\n",
    "plt.subplot(164)\n",
    "movies.IMDB_Rating.hist(bins='rice')\n",
    "\n",
    "plt.subplot(165)\n",
    "movies.IMDB_Rating.hist(bins='sturges')\n",
    "\n",
    "plt.subplot(166)\n",
    "movies.IMDB_Rating.hist(bins='sqrt')"
   ]
  },
  {
   "cell_type": "markdown",
   "metadata": {
    "id": "33_5ZPO2TG6f"
   },
   "source": [
    "Some are decent, but several of them tend to overestimate the good number of bins. As you have more data points, some of the formulae may overestimate the necessary number of bins. Particularly in our case, because of the precision issue, we shouldn't increase the number of bins too much."
   ]
  },
  {
   "cell_type": "markdown",
   "metadata": {
    "id": "oX4mgRmVTG6f"
   },
   "source": [
    "### Then, how should we choose the number of bins?"
   ]
  },
  {
   "cell_type": "markdown",
   "metadata": {
    "id": "nwa4u4gjTG6f"
   },
   "source": [
    "So what's the conclusion? use Scott's rule or Sturges' formula?\n",
    "\n",
    "No, I think the take-away is that you **should understand how the inappropriate number of bins can mislead you** and you should **try multiple number of bins** to obtain the most accurate picture of the data. Although the 'default' may work in most cases, don't blindly trust it! Don't judge the distribution of a dataset based on a single histogram. Try multiple parameters to get the full picture!"
   ]
  },
  {
   "cell_type": "markdown",
   "metadata": {
    "id": "Fevnnf2fTG6f"
   },
   "source": [
    "## CDF (Cumulative distribution function)\n",
    "\n",
    "Drawing a CDF is easy. Because it's very common data visualization, histogram has an option called `cumulative`."
   ]
  },
  {
   "cell_type": "code",
   "execution_count": 86,
   "metadata": {
    "colab": {
     "base_uri": "https://localhost:8080/",
     "height": 448
    },
    "execution": {
     "iopub.execute_input": "2020-06-14T19:57:33.036Z",
     "iopub.status.busy": "2020-06-14T19:57:32.985Z",
     "iopub.status.idle": "2020-06-14T19:57:33.475Z",
     "shell.execute_reply": "2020-06-14T19:57:33.492Z"
    },
    "executionInfo": {
     "elapsed": 590,
     "status": "ok",
     "timestamp": 1687818472742,
     "user": {
      "displayName": "Vincent Wong",
      "userId": "06927694896148305320"
     },
     "user_tz": 240
    },
    "id": "tGx6OxKATG6g",
    "jupyter": {
     "outputs_hidden": false
    },
    "outputId": "908dae60-f150-4f40-9149-8faa5670e7ca"
   },
   "outputs": [
    {
     "data": {
      "text/plain": [
       "<Axes: >"
      ]
     },
     "execution_count": 86,
     "metadata": {},
     "output_type": "execute_result"
    },
    {
     "data": {
      "image/png": "[encoded data removed]",
      "text/plain": [
       "<Figure size 640x480 with 1 Axes>"
      ]
     },
     "metadata": {},
     "output_type": "display_data"
    }
   ],
   "source": [
    "movies.IMDB_Rating.hist(cumulative=True)"
   ]
  },
  {
   "cell_type": "markdown",
   "metadata": {
    "id": "ylVvfe-eTG6g"
   },
   "source": [
    "You can also combine with options such as `histtype` and `density`."
   ]
  },
  {
   "cell_type": "code",
   "execution_count": 87,
   "metadata": {
    "colab": {
     "base_uri": "https://localhost:8080/",
     "height": 448
    },
    "execution": {
     "iopub.execute_input": "2020-06-14T19:57:34.566Z",
     "iopub.status.busy": "2020-06-14T19:57:34.550Z",
     "iopub.status.idle": "2020-06-14T19:57:34.671Z",
     "shell.execute_reply": "2020-06-14T19:57:34.687Z"
    },
    "executionInfo": {
     "elapsed": 336,
     "status": "ok",
     "timestamp": 1687818473325,
     "user": {
      "displayName": "Vincent Wong",
      "userId": "06927694896148305320"
     },
     "user_tz": 240
    },
    "id": "V-qGVKxVTG6g",
    "jupyter": {
     "outputs_hidden": false
    },
    "outputId": "9fd0e1f5-e2fb-49dc-ebb8-9d7a17bc5e29"
   },
   "outputs": [
    {
     "data": {
      "text/plain": [
       "<Axes: >"
      ]
     },
     "execution_count": 87,
     "metadata": {},
     "output_type": "execute_result"
    },
    {
     "data": {
      "image/png": "[encoded data removed]",
      "text/plain": [
       "<Figure size 640x480 with 1 Axes>"
      ]
     },
     "metadata": {},
     "output_type": "display_data"
    }
   ],
   "source": [
    "movies.IMDB_Rating.hist(histtype='step', cumulative=True, density=True)"
   ]
  },
  {
   "cell_type": "markdown",
   "metadata": {
    "id": "5LkuToB3TG6g"
   },
   "source": [
    "And increase the number of bins."
   ]
  },
  {
   "cell_type": "code",
   "execution_count": 88,
   "metadata": {
    "colab": {
     "base_uri": "https://localhost:8080/",
     "height": 448
    },
    "execution": {
     "iopub.execute_input": "2020-06-14T19:57:35.726Z",
     "iopub.status.busy": "2020-06-14T19:57:35.709Z",
     "iopub.status.idle": "2020-06-14T19:57:37.266Z",
     "shell.execute_reply": "2020-06-14T19:57:37.319Z"
    },
    "executionInfo": {
     "elapsed": 2968,
     "status": "ok",
     "timestamp": 1687818476463,
     "user": {
      "displayName": "Vincent Wong",
      "userId": "06927694896148305320"
     },
     "user_tz": 240
    },
    "id": "d0fgONoxTG6g",
    "jupyter": {
     "outputs_hidden": false
    },
    "outputId": "3f3cb362-f263-4565-f72a-33ea6be4e2cb"
   },
   "outputs": [
    {
     "data": {
      "text/plain": [
       "<Axes: >"
      ]
     },
     "execution_count": 88,
     "metadata": {},
     "output_type": "execute_result"
    },
    {
     "data": {
      "image/png": "[encoded data removed]",
      "text/plain": [
       "<Figure size 640x480 with 1 Axes>"
      ]
     },
     "metadata": {},
     "output_type": "display_data"
    }
   ],
   "source": [
    "movies.IMDB_Rating.hist(cumulative=True, density=True, bins=1000)"
   ]
  },
  {
   "cell_type": "markdown",
   "metadata": {
    "id": "JrytXZBQTG6g"
   },
   "source": [
    "This method works fine. By increasing the number of bins, you can get a CDF in the resolution that you want. But let's also try it manually to better understand what's going on. First, we should sort all the values."
   ]
  },
  {
   "cell_type": "code",
   "execution_count": 89,
   "metadata": {
    "colab": {
     "base_uri": "https://localhost:8080/"
    },
    "execution": {
     "iopub.execute_input": "2020-06-14T19:57:38.193Z",
     "iopub.status.busy": "2020-06-14T19:57:38.177Z",
     "iopub.status.idle": "2020-06-14T19:57:38.229Z",
     "shell.execute_reply": "2020-06-14T19:57:38.245Z"
    },
    "executionInfo": {
     "elapsed": 10,
     "status": "ok",
     "timestamp": 1687818476464,
     "user": {
      "displayName": "Vincent Wong",
      "userId": "06927694896148305320"
     },
     "user_tz": 240
    },
    "id": "hQmzLYonTG6g",
    "jupyter": {
     "outputs_hidden": false
    },
    "outputId": "e986fb7e-dd88-412e-8d7b-7652dee31d4a"
   },
   "outputs": [
    {
     "data": {
      "text/plain": [
       "1247    1.4\n",
       "406     1.5\n",
       "1754    1.6\n",
       "1590    1.7\n",
       "1515    1.7\n",
       "Name: IMDB_Rating, dtype: float64"
      ]
     },
     "execution_count": 89,
     "metadata": {},
     "output_type": "execute_result"
    }
   ],
   "source": [
    "rating_sorted = movies.IMDB_Rating.sort_values()\n",
    "rating_sorted.head()"
   ]
  },
  {
   "cell_type": "markdown",
   "metadata": {
    "id": "GwGp6rXDTG6g"
   },
   "source": [
    "We need to know the number of data points,"
   ]
  },
  {
   "cell_type": "code",
   "execution_count": 90,
   "metadata": {
    "colab": {
     "base_uri": "https://localhost:8080/"
    },
    "execution": {
     "iopub.execute_input": "2020-06-14T19:57:39.585Z",
     "iopub.status.busy": "2020-06-14T19:57:39.569Z",
     "iopub.status.idle": "2020-06-14T19:57:39.617Z",
     "shell.execute_reply": "2020-06-14T19:57:39.635Z"
    },
    "executionInfo": {
     "elapsed": 8,
     "status": "ok",
     "timestamp": 1687818476465,
     "user": {
      "displayName": "Vincent Wong",
      "userId": "06927694896148305320"
     },
     "user_tz": 240
    },
    "id": "wzlbCrkcTG6h",
    "jupyter": {
     "outputs_hidden": false
    },
    "outputId": "788c365c-1eb4-446c-9a6e-3627f7a758e4"
   },
   "outputs": [
    {
     "data": {
      "text/plain": [
       "2988"
      ]
     },
     "execution_count": 90,
     "metadata": {},
     "output_type": "execute_result"
    }
   ],
   "source": [
    "N = len(rating_sorted)\n",
    "N"
   ]
  },
  {
   "cell_type": "markdown",
   "metadata": {
    "id": "TB-YgQwDTG6h"
   },
   "source": [
    "And I think this may be useful for you."
   ]
  },
  {
   "cell_type": "code",
   "execution_count": 91,
   "metadata": {
    "colab": {
     "base_uri": "https://localhost:8080/"
    },
    "execution": {
     "iopub.execute_input": "2020-06-14T19:57:40.533Z",
     "iopub.status.busy": "2020-06-14T19:57:40.515Z",
     "iopub.status.idle": "2020-06-14T19:57:40.565Z",
     "shell.execute_reply": "2020-06-14T19:57:40.581Z"
    },
    "executionInfo": {
     "elapsed": 7,
     "status": "ok",
     "timestamp": 1687818476989,
     "user": {
      "displayName": "Vincent Wong",
      "userId": "06927694896148305320"
     },
     "user_tz": 240
    },
    "id": "ta5S5g-OTG6h",
    "jupyter": {
     "outputs_hidden": false
    },
    "outputId": "69f7a2c3-e913-4d5a-c10c-e66abf2dc7c0"
   },
   "outputs": [
    {
     "data": {
      "text/plain": [
       "array([0.02, 0.04, 0.06, 0.08, 0.1 , 0.12, 0.14, 0.16, 0.18, 0.2 , 0.22,\n",
       "       0.24, 0.26, 0.28, 0.3 , 0.32, 0.34, 0.36, 0.38, 0.4 , 0.42, 0.44,\n",
       "       0.46, 0.48, 0.5 , 0.52, 0.54, 0.56, 0.58, 0.6 , 0.62, 0.64, 0.66,\n",
       "       0.68, 0.7 , 0.72, 0.74, 0.76, 0.78, 0.8 , 0.82, 0.84, 0.86, 0.88,\n",
       "       0.9 , 0.92, 0.94, 0.96, 0.98, 1.  ])"
      ]
     },
     "execution_count": 91,
     "metadata": {},
     "output_type": "execute_result"
    }
   ],
   "source": [
    "n = 50\n",
    "np.linspace(1/n, 1.0, num=n)"
   ]
  },
  {
   "cell_type": "markdown",
   "metadata": {
    "id": "xTkw7L1ETG6h"
   },
   "source": [
    "**Q: now you're ready to draw a proper CDF. Draw the CDF plot of this data.**"
   ]
  },
  {
   "cell_type": "code",
   "execution_count": 55,
   "metadata": {},
   "outputs": [
    {
     "data": {
      "image/png": "[encoded data removed]",
      "text/plain": [
       "<Figure size 432x288 with 1 Axes>"
      ]
     },
     "metadata": {
      "needs_background": "light"
     },
     "output_type": "display_data"
    }
   ],
   "source": [
    "n = 50\n",
    "data = np.linspace(1/n, 1.0, num=n)\n",
    "\n",
    "x = np.sort(data)\n",
    "y = np.arange(1, n+1) / n  # Fix the calculation of CDF values\n",
    "\n",
    "plt.plot(x, y, marker='.', linestyle='none')\n",
    "plt.xlabel('Data Values')\n",
    "plt.ylabel('CDF')\n",
    "plt.title('Cumulative Distribution Function (CDF) Plot')\n",
    "plt.grid(True)\n",
    "\n",
    "plt.show()"
   ]
  },
  {
   "cell_type": "code",
   "execution_count": 92,
   "metadata": {
    "colab": {
     "base_uri": "https://localhost:8080/",
     "height": 449
    },
    "execution": {
     "iopub.execute_input": "2020-06-14T19:57:41.498Z",
     "iopub.status.busy": "2020-06-14T19:57:41.481Z",
     "iopub.status.idle": "2020-06-14T19:57:41.677Z",
     "shell.execute_reply": "2020-06-14T19:57:41.693Z"
    },
    "executionInfo": {
     "elapsed": 345,
     "status": "ok",
     "timestamp": 1687818478045,
     "user": {
      "displayName": "Vincent Wong",
      "userId": "06927694896148305320"
     },
     "user_tz": 240
    },
    "id": "mS2e8Ji4TG6h",
    "jupyter": {
     "outputs_hidden": false
    },
    "outputId": "0e2fd594-524b-4d3a-df83-aad9d593a30e"
   },
   "outputs": [
    {
     "data": {
      "image/png": "[encoded data removed]",
      "text/plain": [
       "<Figure size 640x480 with 1 Axes>"
      ]
     },
     "metadata": {},
     "output_type": "display_data"
    }
   ],
   "source": [
    "# YOUR SOLUTION HERE"
   ]
  },
  {
   "cell_type": "markdown",
   "metadata": {
    "id": "_yRa45NKTG6h"
   },
   "source": [
    "## A bit more histogram with altair\n",
    "\n",
    "As you may remember, you can get a pandas dataframe from `vega_datasets` package and use it to create visualizations. But, if you use `altair`, you can simply pass the URL instead of the actual data."
   ]
  },
  {
   "cell_type": "code",
   "execution_count": 37,
   "metadata": {
    "colab": {
     "base_uri": "https://localhost:8080/",
     "height": 36
    },
    "execution": {
     "iopub.execute_input": "2020-06-14T19:57:43.058Z",
     "iopub.status.busy": "2020-06-14T19:57:43.042Z",
     "iopub.status.idle": "2020-06-14T19:57:43.092Z",
     "shell.execute_reply": "2020-06-14T19:57:43.108Z"
    },
    "executionInfo": {
     "elapsed": 138,
     "status": "ok",
     "timestamp": 1687818484772,
     "user": {
      "displayName": "Vincent Wong",
      "userId": "06927694896148305320"
     },
     "user_tz": 240
    },
    "id": "i5tVwCoUTG6h",
    "jupyter": {
     "outputs_hidden": false
    },
    "outputId": "f2d50db3-0a7e-4dbb-8e4c-73112fb813e2"
   },
   "outputs": [
    {
     "data": {
      "text/plain": [
       "'https://cdn.jsdelivr.net/npm/vega-datasets@v1.29.0/data/movies.json'"
      ]
     },
     "execution_count": 37,
     "metadata": {},
     "output_type": "execute_result"
    }
   ],
   "source": [
    "vega_datasets.data.movies.url"
   ]
  },
  {
   "cell_type": "code",
   "execution_count": 38,
   "metadata": {
    "colab": {
     "base_uri": "https://localhost:8080/"
    },
    "execution": {
     "iopub.execute_input": "2020-06-14T19:57:43.771Z",
     "iopub.status.busy": "2020-06-14T19:57:43.755Z",
     "iopub.status.idle": "2020-06-14T19:57:43.806Z",
     "shell.execute_reply": "2020-06-14T19:57:43.821Z"
    },
    "executionInfo": {
     "elapsed": 12,
     "status": "ok",
     "timestamp": 1687818484928,
     "user": {
      "displayName": "Vincent Wong",
      "userId": "06927694896148305320"
     },
     "user_tz": 240
    },
    "id": "ovK3CJblTG6i",
    "jupyter": {
     "outputs_hidden": false
    },
    "outputId": "148eff64-dbe9-44d0-bcca-a4e775aac584"
   },
   "outputs": [
    {
     "data": {
      "text/plain": [
       "RendererRegistry.enable('jupyterlab')"
      ]
     },
     "execution_count": 38,
     "metadata": {},
     "output_type": "execute_result"
    }
   ],
   "source": [
    "# Choose based on your environment\n",
    "alt.renderers.enable('jupyterlab')\n",
    "# alt.renderers.enable('notebook')"
   ]
  },
  {
   "cell_type": "markdown",
   "metadata": {
    "id": "lwcVA0LxTG6i"
   },
   "source": [
    "As mentioned before, in `altair` histogram is not special. It is just a plot that use bars (`mark_bar()`) where X axis is defined by `IMDB_Rating` with bins (`bin=True`), and Y axis is defined by `count()` aggregation function."
   ]
  },
  {
   "cell_type": "code",
   "execution_count": 39,
   "metadata": {
    "colab": {
     "base_uri": "https://localhost:8080/",
     "height": 108
    },
    "execution": {
     "iopub.execute_input": "2020-06-14T19:57:44.724Z",
     "iopub.status.busy": "2020-06-14T19:57:44.708Z",
     "iopub.status.idle": "2020-06-14T19:57:44.757Z",
     "shell.execute_reply": "2020-06-14T19:57:44.817Z"
    },
    "executionInfo": {
     "elapsed": 11,
     "status": "ok",
     "timestamp": 1687818484929,
     "user": {
      "displayName": "Vincent Wong",
      "userId": "06927694896148305320"
     },
     "user_tz": 240
    },
    "id": "h048hIgETG6i",
    "jupyter": {
     "outputs_hidden": false
    },
    "outputId": "2729bc70-08cd-4c5b-e569-76c73bf8cbb6"
   },
   "outputs": [
    {
     "data": {
      "application/vnd.vegalite.v5+json": {
       "$schema": "https://vega.github.io/schema/vega-lite/v5.8.0.json",
       "config": {
        "view": {
         "continuousHeight": 300,
         "continuousWidth": 300
        }
       },
       "data": {
        "url": "https://cdn.jsdelivr.net/npm/vega-datasets@v1.29.0/data/movies.json"
       },
       "encoding": {
        "x": {
         "bin": true,
         "field": "IMDB_Rating",
         "type": "quantitative"
        },
        "y": {
         "aggregate": "count",
         "type": "quantitative"
        }
       },
       "mark": {
        "type": "bar"
       }
      },
      "text/plain": [
       "<VegaLite 5 object>\n",
       "\n",
       "If you see this message, it means the renderer has not been properly enabled\n",
       "for the frontend that you are using. For more information, see\n",
       "https://altair-viz.github.io/user_guide/display_frontends.html#troubleshooting\n"
      ]
     },
     "execution_count": 39,
     "metadata": {},
     "output_type": "execute_result"
    }
   ],
   "source": [
    "alt.Chart(vega_datasets.data.movies.url).mark_bar().encode(\n",
    "    alt.X(\"IMDB_Rating:Q\",  bin=True),\n",
    "    alt.Y('count()')\n",
    ")"
   ]
  },
  {
   "cell_type": "markdown",
   "metadata": {
    "id": "KrhwH6I1TG6i"
   },
   "source": [
    "Have you noted that it is `IMDB_Rating:Q` not `IMDB_Rating`? This is a shorthand for"
   ]
  },
  {
   "cell_type": "code",
   "execution_count": 40,
   "metadata": {
    "colab": {
     "base_uri": "https://localhost:8080/",
     "height": 108
    },
    "execution": {
     "iopub.execute_input": "2020-06-14T19:57:45.826Z",
     "iopub.status.busy": "2020-06-14T19:57:45.808Z",
     "iopub.status.idle": "2020-06-14T19:57:45.861Z",
     "shell.execute_reply": "2020-06-14T19:57:45.890Z"
    },
    "executionInfo": {
     "elapsed": 24,
     "status": "ok",
     "timestamp": 1687818485080,
     "user": {
      "displayName": "Vincent Wong",
      "userId": "06927694896148305320"
     },
     "user_tz": 240
    },
    "id": "Jna8_X-MTG6i",
    "jupyter": {
     "outputs_hidden": false
    },
    "outputId": "11a8b01b-03f5-4d69-c124-cce4b583a2d9"
   },
   "outputs": [
    {
     "data": {
      "application/vnd.vegalite.v5+json": {
       "$schema": "https://vega.github.io/schema/vega-lite/v5.8.0.json",
       "config": {
        "view": {
         "continuousHeight": 300,
         "continuousWidth": 300
        }
       },
       "data": {
        "url": "https://cdn.jsdelivr.net/npm/vega-datasets@v1.29.0/data/movies.json"
       },
       "encoding": {
        "x": {
         "bin": true,
         "field": "IMDB_Rating",
         "type": "quantitative"
        },
        "y": {
         "aggregate": "count",
         "type": "quantitative"
        }
       },
       "mark": {
        "type": "bar"
       }
      },
      "text/plain": [
       "<VegaLite 5 object>\n",
       "\n",
       "If you see this message, it means the renderer has not been properly enabled\n",
       "for the frontend that you are using. For more information, see\n",
       "https://altair-viz.github.io/user_guide/display_frontends.html#troubleshooting\n"
      ]
     },
     "execution_count": 40,
     "metadata": {},
     "output_type": "execute_result"
    }
   ],
   "source": [
    "alt.Chart(vega_datasets.data.movies.url).mark_bar().encode(\n",
    "    alt.X('IMDB_Rating', type='quantitative', bin=True),\n",
    "    alt.Y(aggregate='count', type='quantitative')\n",
    ")"
   ]
  },
  {
   "cell_type": "markdown",
   "metadata": {
    "id": "PXWdvT7XTG6i"
   },
   "source": [
    "In altair, you want to specify the data types using one of the four categories: quantitative, ordinal, nominal, and temporal. https://altair-viz.github.io/user_guide/encoding.html#data-types"
   ]
  },
  {
   "cell_type": "markdown",
   "metadata": {
    "id": "07Qhm4sZTG6i"
   },
   "source": [
    "Although you can adjust the bins in `altair`, it does not encourage you to set the bins directly. For instance, although there is `step` parameter that directly sets the bin size, there are parameters such as `maxbins` (maximum number of bins) or `minstep` (minimum allowable step size), or `nice` (attemps to make the bin boundaries more human-friendly), that encourage you not to specify the bins directly."
   ]
  },
  {
   "cell_type": "code",
   "execution_count": 41,
   "metadata": {
    "colab": {
     "base_uri": "https://localhost:8080/",
     "height": 108
    },
    "execution": {
     "iopub.execute_input": "2020-06-14T19:57:48.350Z",
     "iopub.status.busy": "2020-06-14T19:57:48.333Z",
     "iopub.status.idle": "2020-06-14T19:57:48.386Z",
     "shell.execute_reply": "2020-06-14T19:57:48.414Z"
    },
    "executionInfo": {
     "elapsed": 21,
     "status": "ok",
     "timestamp": 1687818485080,
     "user": {
      "displayName": "Vincent Wong",
      "userId": "06927694896148305320"
     },
     "user_tz": 240
    },
    "id": "6fg-viz1TG6i",
    "jupyter": {
     "outputs_hidden": false
    },
    "outputId": "3c6ba6e4-afc4-4819-dc3f-ed276f5fbc59"
   },
   "outputs": [
    {
     "data": {
      "application/vnd.vegalite.v5+json": {
       "$schema": "https://vega.github.io/schema/vega-lite/v5.8.0.json",
       "config": {
        "view": {
         "continuousHeight": 300,
         "continuousWidth": 300
        }
       },
       "data": {
        "url": "https://cdn.jsdelivr.net/npm/vega-datasets@v1.29.0/data/movies.json"
       },
       "encoding": {
        "x": {
         "bin": {
          "step": 0.09
         },
         "field": "IMDB_Rating",
         "type": "quantitative"
        },
        "y": {
         "aggregate": "count",
         "type": "quantitative"
        }
       },
       "mark": {
        "type": "bar"
       }
      },
      "text/plain": [
       "<VegaLite 5 object>\n",
       "\n",
       "If you see this message, it means the renderer has not been properly enabled\n",
       "for the frontend that you are using. For more information, see\n",
       "https://altair-viz.github.io/user_guide/display_frontends.html#troubleshooting\n"
      ]
     },
     "execution_count": 41,
     "metadata": {},
     "output_type": "execute_result"
    }
   ],
   "source": [
    "from altair import Bin\n",
    "\n",
    "alt.Chart(vega_datasets.data.movies.url).mark_bar().encode(\n",
    "    alt.X(\"IMDB_Rating:Q\",  bin=Bin(step=0.09)),\n",
    "    alt.Y('count()')\n",
    ")"
   ]
  },
  {
   "cell_type": "code",
   "execution_count": 42,
   "metadata": {
    "colab": {
     "base_uri": "https://localhost:8080/",
     "height": 108
    },
    "execution": {
     "iopub.execute_input": "2020-06-14T19:57:49.339Z",
     "iopub.status.busy": "2020-06-14T19:57:49.320Z",
     "iopub.status.idle": "2020-06-14T19:57:49.373Z",
     "shell.execute_reply": "2020-06-14T19:57:49.401Z"
    },
    "executionInfo": {
     "elapsed": 20,
     "status": "ok",
     "timestamp": 1687818485081,
     "user": {
      "displayName": "Vincent Wong",
      "userId": "06927694896148305320"
     },
     "user_tz": 240
    },
    "id": "lhrilAaATG6j",
    "jupyter": {
     "outputs_hidden": false
    },
    "outputId": "530289a0-fa70-4eda-a05e-90caa03bc646"
   },
   "outputs": [
    {
     "data": {
      "application/vnd.vegalite.v5+json": {
       "$schema": "https://vega.github.io/schema/vega-lite/v5.8.0.json",
       "config": {
        "view": {
         "continuousHeight": 300,
         "continuousWidth": 300
        }
       },
       "data": {
        "url": "https://cdn.jsdelivr.net/npm/vega-datasets@v1.29.0/data/movies.json"
       },
       "encoding": {
        "x": {
         "bin": {
          "maxbins": 20,
          "nice": true
         },
         "field": "IMDB_Rating",
         "type": "quantitative"
        },
        "y": {
         "aggregate": "count",
         "type": "quantitative"
        }
       },
       "mark": {
        "type": "bar"
       }
      },
      "text/plain": [
       "<VegaLite 5 object>\n",
       "\n",
       "If you see this message, it means the renderer has not been properly enabled\n",
       "for the frontend that you are using. For more information, see\n",
       "https://altair-viz.github.io/user_guide/display_frontends.html#troubleshooting\n"
      ]
     },
     "execution_count": 42,
     "metadata": {},
     "output_type": "execute_result"
    }
   ],
   "source": [
    "alt.Chart(vega_datasets.data.movies.url).mark_bar().encode(\n",
    "    alt.X(\"IMDB_Rating:Q\",  bin=Bin(nice=True, maxbins=20)),\n",
    "    alt.Y('count()')\n",
    ")"
   ]
  },
  {
   "cell_type": "markdown",
   "metadata": {
    "id": "B6I7ZhwUTG6j"
   },
   "source": [
    "### Composing charts in altair\n",
    "\n",
    "`altair` has a very nice way to compose multiple plots. Two histograms side by side? just do the following."
   ]
  },
  {
   "cell_type": "code",
   "execution_count": 43,
   "metadata": {
    "execution": {
     "iopub.execute_input": "2020-06-14T19:57:50.814Z",
     "iopub.status.busy": "2020-06-14T19:57:50.798Z",
     "iopub.status.idle": "2020-06-14T19:57:50.842Z",
     "shell.execute_reply": "2020-06-14T19:57:50.859Z"
    },
    "executionInfo": {
     "elapsed": 156,
     "status": "ok",
     "timestamp": 1687818529552,
     "user": {
      "displayName": "Vincent Wong",
      "userId": "06927694896148305320"
     },
     "user_tz": 240
    },
    "id": "xPmv3BSrTG6j"
   },
   "outputs": [],
   "source": [
    "chart1 = alt.Chart(vega_datasets.data.movies.url).mark_bar().encode(\n",
    "    alt.X(\"IMDB_Rating:Q\",  bin=Bin(step=0.1)),\n",
    "    alt.Y('count()')\n",
    ").properties(\n",
    "    width=300,\n",
    "    height=150\n",
    ")\n",
    "chart2 = alt.Chart(vega_datasets.data.movies.url).mark_bar().encode(\n",
    "    alt.X(\"IMDB_Rating:Q\",  bin=Bin(nice=True, maxbins=20)),\n",
    "    alt.Y('count()')\n",
    ").properties(\n",
    "    width=300,\n",
    "    height=150\n",
    ")"
   ]
  },
  {
   "cell_type": "code",
   "execution_count": 44,
   "metadata": {
    "colab": {
     "base_uri": "https://localhost:8080/",
     "height": 108
    },
    "execution": {
     "iopub.execute_input": "2020-06-14T19:57:52.890Z",
     "iopub.status.busy": "2020-06-14T19:57:52.874Z",
     "iopub.status.idle": "2020-06-14T19:57:52.923Z",
     "shell.execute_reply": "2020-06-14T19:57:52.953Z"
    },
    "executionInfo": {
     "elapsed": 10,
     "status": "ok",
     "timestamp": 1687818530196,
     "user": {
      "displayName": "Vincent Wong",
      "userId": "06927694896148305320"
     },
     "user_tz": 240
    },
    "id": "ysVDBmkHTG6j",
    "jupyter": {
     "outputs_hidden": false
    },
    "outputId": "cb97ec72-7ae3-4472-e672-08aa74e3b5af"
   },
   "outputs": [
    {
     "data": {
      "application/vnd.vegalite.v5+json": {
       "$schema": "https://vega.github.io/schema/vega-lite/v5.8.0.json",
       "config": {
        "view": {
         "continuousHeight": 300,
         "continuousWidth": 300
        }
       },
       "hconcat": [
        {
         "data": {
          "url": "https://cdn.jsdelivr.net/npm/vega-datasets@v1.29.0/data/movies.json"
         },
         "encoding": {
          "x": {
           "bin": {
            "step": 0.1
           },
           "field": "IMDB_Rating",
           "type": "quantitative"
          },
          "y": {
           "aggregate": "count",
           "type": "quantitative"
          }
         },
         "height": 150,
         "mark": {
          "type": "bar"
         },
         "width": 300
        },
        {
         "data": {
          "url": "https://cdn.jsdelivr.net/npm/vega-datasets@v1.29.0/data/movies.json"
         },
         "encoding": {
          "x": {
           "bin": {
            "maxbins": 20,
            "nice": true
           },
           "field": "IMDB_Rating",
           "type": "quantitative"
          },
          "y": {
           "aggregate": "count",
           "type": "quantitative"
          }
         },
         "height": 150,
         "mark": {
          "type": "bar"
         },
         "width": 300
        }
       ]
      },
      "text/plain": [
       "<VegaLite 5 object>\n",
       "\n",
       "If you see this message, it means the renderer has not been properly enabled\n",
       "for the frontend that you are using. For more information, see\n",
       "https://altair-viz.github.io/user_guide/display_frontends.html#troubleshooting\n"
      ]
     },
     "execution_count": 44,
     "metadata": {},
     "output_type": "execute_result"
    }
   ],
   "source": [
    "chart1 | chart2"
   ]
  },
  {
   "cell_type": "code",
   "execution_count": 101,
   "metadata": {
    "colab": {
     "base_uri": "https://localhost:8080/",
     "height": 108
    },
    "execution": {
     "iopub.execute_input": "2020-06-14T19:57:53.433Z",
     "iopub.status.busy": "2020-06-14T19:57:53.415Z",
     "iopub.status.idle": "2020-06-14T19:57:53.469Z",
     "shell.execute_reply": "2020-06-14T19:57:53.502Z"
    },
    "executionInfo": {
     "elapsed": 11,
     "status": "ok",
     "timestamp": 1687818530827,
     "user": {
      "displayName": "Vincent Wong",
      "userId": "06927694896148305320"
     },
     "user_tz": 240
    },
    "id": "4V9T406iTG6j",
    "jupyter": {
     "outputs_hidden": false
    },
    "outputId": "e90872a0-239a-4dca-d2a3-87edae091c74"
   },
   "outputs": [
    {
     "data": {
      "application/vnd.vegalite.v5+json": {
       "$schema": "https://vega.github.io/schema/vega-lite/v5.14.1.json",
       "config": {
        "view": {
         "continuousHeight": 300,
         "continuousWidth": 300
        }
       },
       "hconcat": [
        {
         "data": {
          "url": "https://cdn.jsdelivr.net/npm/vega-datasets@v1.29.0/data/movies.json"
         },
         "encoding": {
          "x": {
           "bin": {
            "step": 0.1
           },
           "field": "IMDB_Rating",
           "type": "quantitative"
          },
          "y": {
           "aggregate": "count",
           "type": "quantitative"
          }
         },
         "height": 150,
         "mark": {
          "type": "bar"
         },
         "width": 300
        },
        {
         "data": {
          "url": "https://cdn.jsdelivr.net/npm/vega-datasets@v1.29.0/data/movies.json"
         },
         "encoding": {
          "x": {
           "bin": {
            "maxbins": 20,
            "nice": true
           },
           "field": "IMDB_Rating",
           "type": "quantitative"
          },
          "y": {
           "aggregate": "count",
           "type": "quantitative"
          }
         },
         "height": 150,
         "mark": {
          "type": "bar"
         },
         "width": 300
        }
       ]
      },
      "text/plain": [
       "<VegaLite 5 object>\n",
       "\n",
       "If you see this message, it means the renderer has not been properly enabled\n",
       "for the frontend that you are using. For more information, see\n",
       "https://altair-viz.github.io/user_guide/display_frontends.html#troubleshooting\n"
      ]
     },
     "execution_count": 101,
     "metadata": {},
     "output_type": "execute_result"
    }
   ],
   "source": [
    "alt.hconcat(chart1, chart2)"
   ]
  },
  {
   "cell_type": "markdown",
   "metadata": {
    "id": "J2H-DmilTG6j"
   },
   "source": [
    "Vertical commposition?"
   ]
  },
  {
   "cell_type": "code",
   "execution_count": 102,
   "metadata": {
    "colab": {
     "base_uri": "https://localhost:8080/",
     "height": 108
    },
    "execution": {
     "iopub.execute_input": "2020-06-14T19:57:55.011Z",
     "iopub.status.busy": "2020-06-14T19:57:54.929Z",
     "iopub.status.idle": "2020-06-14T19:57:55.080Z",
     "shell.execute_reply": "2020-06-14T19:57:55.113Z"
    },
    "executionInfo": {
     "elapsed": 447,
     "status": "ok",
     "timestamp": 1687818531762,
     "user": {
      "displayName": "Vincent Wong",
      "userId": "06927694896148305320"
     },
     "user_tz": 240
    },
    "id": "XqiQlLJwTG6j",
    "jupyter": {
     "outputs_hidden": false
    },
    "outputId": "b4f414f9-d5af-4630-801c-b1f0980d1338"
   },
   "outputs": [
    {
     "data": {
      "application/vnd.vegalite.v5+json": {
       "$schema": "https://vega.github.io/schema/vega-lite/v5.14.1.json",
       "config": {
        "view": {
         "continuousHeight": 300,
         "continuousWidth": 300
        }
       },
       "vconcat": [
        {
         "data": {
          "url": "https://cdn.jsdelivr.net/npm/vega-datasets@v1.29.0/data/movies.json"
         },
         "encoding": {
          "x": {
           "bin": {
            "step": 0.1
           },
           "field": "IMDB_Rating",
           "type": "quantitative"
          },
          "y": {
           "aggregate": "count",
           "type": "quantitative"
          }
         },
         "height": 150,
         "mark": {
          "type": "bar"
         },
         "width": 300
        },
        {
         "data": {
          "url": "https://cdn.jsdelivr.net/npm/vega-datasets@v1.29.0/data/movies.json"
         },
         "encoding": {
          "x": {
           "bin": {
            "maxbins": 20,
            "nice": true
           },
           "field": "IMDB_Rating",
           "type": "quantitative"
          },
          "y": {
           "aggregate": "count",
           "type": "quantitative"
          }
         },
         "height": 150,
         "mark": {
          "type": "bar"
         },
         "width": 300
        }
       ]
      },
      "text/plain": [
       "<VegaLite 5 object>\n",
       "\n",
       "If you see this message, it means the renderer has not been properly enabled\n",
       "for the frontend that you are using. For more information, see\n",
       "https://altair-viz.github.io/user_guide/display_frontends.html#troubleshooting\n"
      ]
     },
     "execution_count": 102,
     "metadata": {},
     "output_type": "execute_result"
    }
   ],
   "source": [
    "alt.vconcat(chart1, chart2)"
   ]
  },
  {
   "cell_type": "code",
   "execution_count": 103,
   "metadata": {
    "colab": {
     "base_uri": "https://localhost:8080/",
     "height": 108
    },
    "execution": {
     "iopub.execute_input": "2020-06-14T19:57:56.070Z",
     "iopub.status.busy": "2020-06-14T19:57:56.051Z",
     "iopub.status.idle": "2020-06-14T19:57:56.107Z",
     "shell.execute_reply": "2020-06-14T19:57:56.143Z"
    },
    "executionInfo": {
     "elapsed": 14,
     "status": "ok",
     "timestamp": 1687818531763,
     "user": {
      "displayName": "Vincent Wong",
      "userId": "06927694896148305320"
     },
     "user_tz": 240
    },
    "id": "lNNGnNF9TG6k",
    "jupyter": {
     "outputs_hidden": false
    },
    "outputId": "c3de22f3-1815-45c9-85d8-279f43b6fb59"
   },
   "outputs": [
    {
     "data": {
      "application/vnd.vegalite.v5+json": {
       "$schema": "https://vega.github.io/schema/vega-lite/v5.14.1.json",
       "config": {
        "view": {
         "continuousHeight": 300,
         "continuousWidth": 300
        }
       },
       "vconcat": [
        {
         "data": {
          "url": "https://cdn.jsdelivr.net/npm/vega-datasets@v1.29.0/data/movies.json"
         },
         "encoding": {
          "x": {
           "bin": {
            "step": 0.1
           },
           "field": "IMDB_Rating",
           "type": "quantitative"
          },
          "y": {
           "aggregate": "count",
           "type": "quantitative"
          }
         },
         "height": 150,
         "mark": {
          "type": "bar"
         },
         "width": 300
        },
        {
         "data": {
          "url": "https://cdn.jsdelivr.net/npm/vega-datasets@v1.29.0/data/movies.json"
         },
         "encoding": {
          "x": {
           "bin": {
            "maxbins": 20,
            "nice": true
           },
           "field": "IMDB_Rating",
           "type": "quantitative"
          },
          "y": {
           "aggregate": "count",
           "type": "quantitative"
          }
         },
         "height": 150,
         "mark": {
          "type": "bar"
         },
         "width": 300
        }
       ]
      },
      "text/plain": [
       "<VegaLite 5 object>\n",
       "\n",
       "If you see this message, it means the renderer has not been properly enabled\n",
       "for the frontend that you are using. For more information, see\n",
       "https://altair-viz.github.io/user_guide/display_frontends.html#troubleshooting\n"
      ]
     },
     "execution_count": 103,
     "metadata": {},
     "output_type": "execute_result"
    }
   ],
   "source": [
    "chart1 & chart2"
   ]
  },
  {
   "cell_type": "markdown",
   "metadata": {
    "id": "jAIuSQfmTG6k"
   },
   "source": [
    "Shall we avoid some repetitions? You can define a *base* empty chart first and then assign encodings later when you put together multiple charts together. Here is an example: https://altair-viz.github.io/user_guide/compound_charts.html#repeated-charts\n",
    "\n",
    "**Q: Using the base chart approach to create a 2x2 chart where the top row shows the two histograms of `IMDB_Rating` with `maxbins`=10 and 50 respectively, and the bottom row shows another two histograms of `IMDB_Votes` with `maxbins`=10 and 50.**"
   ]
  },
  {
   "cell_type": "code",
   "execution_count": 104,
   "metadata": {
    "colab": {
     "base_uri": "https://localhost:8080/",
     "height": 108
    },
    "execution": {
     "iopub.execute_input": "2020-06-14T19:57:57.894Z",
     "iopub.status.busy": "2020-06-14T19:57:57.878Z",
     "iopub.status.idle": "2020-06-14T19:57:57.930Z",
     "shell.execute_reply": "2020-06-14T19:57:57.969Z"
    },
    "executionInfo": {
     "elapsed": 13,
     "status": "ok",
     "timestamp": 1687818532588,
     "user": {
      "displayName": "Vincent Wong",
      "userId": "06927694896148305320"
     },
     "user_tz": 240
    },
    "id": "Z8y3XrhmTG6k",
    "jupyter": {
     "outputs_hidden": false
    },
    "outputId": "28095dd2-5f7b-4134-b4ef-9f5d92dd447b"
   },
   "outputs": [
    {
     "data": {
      "application/vnd.vegalite.v5+json": {
       "$schema": "https://vega.github.io/schema/vega-lite/v5.14.1.json",
       "config": {
        "view": {
         "continuousHeight": 300,
         "continuousWidth": 300
        }
       },
       "data": {
        "url": "https://cdn.jsdelivr.net/npm/vega-datasets@v1.29.0/data/movies.json"
       },
       "vconcat": [
        {
         "hconcat": [
          {
           "encoding": {
            "x": {
             "bin": {
              "maxbins": 10
             },
             "field": "IMDB_Rating",
             "type": "quantitative"
            },
            "y": {
             "aggregate": "count",
             "type": "quantitative"
            }
           },
           "height": 150,
           "mark": {
            "type": "bar"
           },
           "width": 200
          },
          {
           "encoding": {
            "x": {
             "bin": {
              "maxbins": 50
             },
             "field": "IMDB_Rating",
             "type": "quantitative"
            },
            "y": {
             "aggregate": "count",
             "type": "quantitative"
            }
           },
           "height": 150,
           "mark": {
            "type": "bar"
           },
           "width": 200
          }
         ]
        },
        {
         "hconcat": [
          {
           "encoding": {
            "x": {
             "bin": {
              "maxbins": 10
             },
             "field": "IMDB_Votes",
             "type": "quantitative"
            },
            "y": {
             "aggregate": "count",
             "type": "quantitative"
            }
           },
           "height": 150,
           "mark": {
            "type": "bar"
           },
           "width": 200
          },
          {
           "encoding": {
            "x": {
             "bin": {
              "maxbins": 50
             },
             "field": "IMDB_Votes",
             "type": "quantitative"
            },
            "y": {
             "aggregate": "count",
             "type": "quantitative"
            }
           },
           "height": 150,
           "mark": {
            "type": "bar"
           },
           "width": 200
          }
         ]
        }
       ]
      },
      "text/plain": [
       "<VegaLite 5 object>\n",
       "\n",
       "If you see this message, it means the renderer has not been properly enabled\n",
       "for the frontend that you are using. For more information, see\n",
       "https://altair-viz.github.io/user_guide/display_frontends.html#troubleshooting\n"
      ]
     },
     "execution_count": 104,
     "metadata": {},
     "output_type": "execute_result"
    }
   ],
   "source": [
    "# YOUR SOLUTION HERE\n"
   ]
  }
 ],
 "metadata": {
  "anaconda-cloud": {},
  "colab": {
   "provenance": []
  },
  "kernel_info": {
   "name": "dviz"
  },
  "kernelspec": {
   "display_name": "Python 3 (ipykernel)",
   "language": "python",
   "name": "python3"
  },
  "language_info": {
   "codemirror_mode": {
    "name": "ipython",
    "version": 3
   },
   "file_extension": ".py",
   "mimetype": "text/x-python",
   "name": "python",
   "nbconvert_exporter": "python",
   "pygments_lexer": "ipython3",
   "version": "3.9.7"
  },
  "nteract": {
   "version": "0.23.3"
  },
  "toc": {
   "nav_menu": {},
   "number_sections": true,
   "sideBar": true,
   "skip_h1_title": false,
   "title_cell": "Table of Contents",
   "title_sidebar": "Contents",
   "toc_cell": false,
   "toc_position": {},
   "toc_section_display": true,
   "toc_window_display": false
  },
  "vscode": {
   "interpreter": {
    "hash": "b0fa6594d8f4cbf19f97940f81e996739fb7646882a419484c72d19e05852a7e"
   }
  }
 },
 "nbformat": 4,
 "nbformat_minor": 1
}
